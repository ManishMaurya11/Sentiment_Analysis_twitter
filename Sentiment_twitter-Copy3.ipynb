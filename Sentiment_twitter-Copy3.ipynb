{
 "cells": [
  {
   "cell_type": "markdown",
   "id": "6e7c0998-bb3c-458e-beba-e51cc9451612",
   "metadata": {
    "tags": []
   },
   "source": [
    "## Imports"
   ]
  },
  {
   "cell_type": "code",
   "execution_count": 330,
   "id": "bf2888a1-e052-44c9-89b4-f94235919a60",
   "metadata": {
    "tags": []
   },
   "outputs": [],
   "source": [
    "import pandas as pd\n",
    "import numpy as np\n",
    "import string\n",
    "import re\n",
    "import contractions\n",
    "from textblob import TextBlob\n",
    "from spellchecker import SpellChecker"
   ]
  },
  {
   "cell_type": "code",
   "execution_count": 331,
   "id": "5ef88357-4158-4e78-9271-ca93ef288498",
   "metadata": {
    "tags": []
   },
   "outputs": [],
   "source": [
    "import nltk\n",
    "from nltk.stem import WordNetLemmatizer\n",
    "from nltk.corpus import stopwords\n",
    "from nltk.tokenize import RegexpTokenizer"
   ]
  },
  {
   "cell_type": "code",
   "execution_count": 332,
   "id": "11621794-3585-411d-b32d-37c6eb7f8973",
   "metadata": {
    "tags": []
   },
   "outputs": [],
   "source": [
    "from tensorflow import keras\n",
    "from keras.preprocessing.text import Tokenizer\n",
    "from keras.preprocessing import sequence\n",
    "from keras.preprocessing.sequence import pad_sequences\n",
    "\n",
    "from keras.layers import Activation, Dense, Dropout, Embedding, Flatten, Conv1D, MaxPooling1D, LSTM, Input\n",
    "\n",
    "from keras.models import Sequential, Model\n",
    "\n",
    "from keras.callbacks import ReduceLROnPlateau, EarlyStopping\n",
    "\n",
    "from keras.optimizers import RMSprop"
   ]
  },
  {
   "cell_type": "code",
   "execution_count": 333,
   "id": "8709abac-6068-4d41-840a-825962daa47a",
   "metadata": {
    "tags": []
   },
   "outputs": [],
   "source": [
    "from sklearn.model_selection import train_test_split\n",
    "\n",
    "from sklearn.metrics import classification_report, confusion_matrix"
   ]
  },
  {
   "cell_type": "code",
   "execution_count": 334,
   "id": "89927dbc-2c98-4d67-bf30-0c16ee3a6f24",
   "metadata": {
    "tags": []
   },
   "outputs": [],
   "source": [
    "import matplotlib.pyplot as plt"
   ]
  },
  {
   "cell_type": "code",
   "execution_count": 335,
   "id": "2de3b45f-c308-40e4-8d00-af09ef3bf297",
   "metadata": {
    "tags": []
   },
   "outputs": [],
   "source": [
    "from mlxtend.plotting import plot_confusion_matrix"
   ]
  },
  {
   "cell_type": "code",
   "execution_count": 336,
   "id": "e28e26d3-0b5a-4c46-95c1-71153240bdf7",
   "metadata": {
    "tags": []
   },
   "outputs": [],
   "source": [
    "import time"
   ]
  },
  {
   "cell_type": "code",
   "execution_count": 337,
   "id": "00a82afd-cb4b-4801-a30c-3fe0d4e2c889",
   "metadata": {
    "tags": []
   },
   "outputs": [],
   "source": [
    "from wordcloud import WordCloud"
   ]
  },
  {
   "cell_type": "markdown",
   "id": "ac16385f-3628-4d0c-b494-801ce6762773",
   "metadata": {
    "tags": []
   },
   "source": [
    "## Load Data and explore to understand"
   ]
  },
  {
   "cell_type": "code",
   "execution_count": 338,
   "id": "a4aed7a7-ade6-4082-a02f-ce103e381a89",
   "metadata": {
    "tags": []
   },
   "outputs": [],
   "source": [
    "data = pd.read_csv(r\"C:\\Users\\soitb\\OneDrive\\Desktop\\Datasets\\twitter_sentiments\\training.1600000.processed.noemoticon.csv\",  encoding=\"latin-1\")"
   ]
  },
  {
   "cell_type": "code",
   "execution_count": 339,
   "id": "8978747f-eee7-4a4e-994f-569adc31d94b",
   "metadata": {
    "tags": []
   },
   "outputs": [
    {
     "data": {
      "text/html": [
       "<div>\n",
       "<style scoped>\n",
       "    .dataframe tbody tr th:only-of-type {\n",
       "        vertical-align: middle;\n",
       "    }\n",
       "\n",
       "    .dataframe tbody tr th {\n",
       "        vertical-align: top;\n",
       "    }\n",
       "\n",
       "    .dataframe thead th {\n",
       "        text-align: right;\n",
       "    }\n",
       "</style>\n",
       "<table border=\"1\" class=\"dataframe\">\n",
       "  <thead>\n",
       "    <tr style=\"text-align: right;\">\n",
       "      <th></th>\n",
       "      <th>0</th>\n",
       "      <th>1467810369</th>\n",
       "      <th>Mon Apr 06 22:19:45 PDT 2009</th>\n",
       "      <th>NO_QUERY</th>\n",
       "      <th>_TheSpecialOne_</th>\n",
       "      <th>@switchfoot http://twitpic.com/2y1zl - Awww, that's a bummer.  You shoulda got David Carr of Third Day to do it. ;D</th>\n",
       "    </tr>\n",
       "  </thead>\n",
       "  <tbody>\n",
       "    <tr>\n",
       "      <th>0</th>\n",
       "      <td>0</td>\n",
       "      <td>1467810672</td>\n",
       "      <td>Mon Apr 06 22:19:49 PDT 2009</td>\n",
       "      <td>NO_QUERY</td>\n",
       "      <td>scotthamilton</td>\n",
       "      <td>is upset that he can't update his Facebook by ...</td>\n",
       "    </tr>\n",
       "    <tr>\n",
       "      <th>1</th>\n",
       "      <td>0</td>\n",
       "      <td>1467810917</td>\n",
       "      <td>Mon Apr 06 22:19:53 PDT 2009</td>\n",
       "      <td>NO_QUERY</td>\n",
       "      <td>mattycus</td>\n",
       "      <td>@Kenichan I dived many times for the ball. Man...</td>\n",
       "    </tr>\n",
       "    <tr>\n",
       "      <th>2</th>\n",
       "      <td>0</td>\n",
       "      <td>1467811184</td>\n",
       "      <td>Mon Apr 06 22:19:57 PDT 2009</td>\n",
       "      <td>NO_QUERY</td>\n",
       "      <td>ElleCTF</td>\n",
       "      <td>my whole body feels itchy and like its on fire</td>\n",
       "    </tr>\n",
       "  </tbody>\n",
       "</table>\n",
       "</div>"
      ],
      "text/plain": [
       "   0  1467810369  Mon Apr 06 22:19:45 PDT 2009  NO_QUERY _TheSpecialOne_  \\\n",
       "0  0  1467810672  Mon Apr 06 22:19:49 PDT 2009  NO_QUERY   scotthamilton   \n",
       "1  0  1467810917  Mon Apr 06 22:19:53 PDT 2009  NO_QUERY        mattycus   \n",
       "2  0  1467811184  Mon Apr 06 22:19:57 PDT 2009  NO_QUERY         ElleCTF   \n",
       "\n",
       "  @switchfoot http://twitpic.com/2y1zl - Awww, that's a bummer.  You shoulda got David Carr of Third Day to do it. ;D  \n",
       "0  is upset that he can't update his Facebook by ...                                                                   \n",
       "1  @Kenichan I dived many times for the ball. Man...                                                                   \n",
       "2    my whole body feels itchy and like its on fire                                                                    "
      ]
     },
     "execution_count": 339,
     "metadata": {},
     "output_type": "execute_result"
    }
   ],
   "source": [
    "data.head(3)"
   ]
  },
  {
   "cell_type": "code",
   "execution_count": 340,
   "id": "f486bc44-9bbe-48e9-955e-22cd3d8297e5",
   "metadata": {
    "tags": []
   },
   "outputs": [
    {
     "data": {
      "text/plain": [
       "Index(['0', '1467810369', 'Mon Apr 06 22:19:45 PDT 2009', 'NO_QUERY',\n",
       "       '_TheSpecialOne_',\n",
       "       '@switchfoot http://twitpic.com/2y1zl - Awww, that's a bummer.  You shoulda got David Carr of Third Day to do it. ;D'],\n",
       "      dtype='object')"
      ]
     },
     "execution_count": 340,
     "metadata": {},
     "output_type": "execute_result"
    }
   ],
   "source": [
    "data.columns"
   ]
  },
  {
   "cell_type": "markdown",
   "id": "8a5cef31-df66-4db1-a184-c6e2bb2fda77",
   "metadata": {},
   "source": [
    "Since the header is not provided, we pass our own list of column names"
   ]
  },
  {
   "cell_type": "code",
   "execution_count": 428,
   "id": "fb10281f-e28c-41cc-8cb7-729a97410e2d",
   "metadata": {
    "tags": []
   },
   "outputs": [],
   "source": [
    "data = pd.read_csv(r\"C:\\Users\\soitb\\OneDrive\\Desktop\\Datasets\\twitter_sentiments\\training.1600000.processed.noemoticon.csv\",  encoding=\"latin-1\", header=None, names=[\"target\",\"ids\",\"date\",\"flag\",\"user\",\"text\"])"
   ]
  },
  {
   "cell_type": "code",
   "execution_count": 429,
   "id": "05c198a8-a1d8-44fd-bf88-d2e357c9b3e0",
   "metadata": {
    "tags": []
   },
   "outputs": [
    {
     "data": {
      "text/html": [
       "<div>\n",
       "<style scoped>\n",
       "    .dataframe tbody tr th:only-of-type {\n",
       "        vertical-align: middle;\n",
       "    }\n",
       "\n",
       "    .dataframe tbody tr th {\n",
       "        vertical-align: top;\n",
       "    }\n",
       "\n",
       "    .dataframe thead th {\n",
       "        text-align: right;\n",
       "    }\n",
       "</style>\n",
       "<table border=\"1\" class=\"dataframe\">\n",
       "  <thead>\n",
       "    <tr style=\"text-align: right;\">\n",
       "      <th></th>\n",
       "      <th>target</th>\n",
       "      <th>ids</th>\n",
       "      <th>date</th>\n",
       "      <th>flag</th>\n",
       "      <th>user</th>\n",
       "      <th>text</th>\n",
       "    </tr>\n",
       "  </thead>\n",
       "  <tbody>\n",
       "    <tr>\n",
       "      <th>0</th>\n",
       "      <td>0</td>\n",
       "      <td>1467810369</td>\n",
       "      <td>Mon Apr 06 22:19:45 PDT 2009</td>\n",
       "      <td>NO_QUERY</td>\n",
       "      <td>_TheSpecialOne_</td>\n",
       "      <td>@switchfoot http://twitpic.com/2y1zl - Awww, t...</td>\n",
       "    </tr>\n",
       "    <tr>\n",
       "      <th>1</th>\n",
       "      <td>0</td>\n",
       "      <td>1467810672</td>\n",
       "      <td>Mon Apr 06 22:19:49 PDT 2009</td>\n",
       "      <td>NO_QUERY</td>\n",
       "      <td>scotthamilton</td>\n",
       "      <td>is upset that he can't update his Facebook by ...</td>\n",
       "    </tr>\n",
       "    <tr>\n",
       "      <th>2</th>\n",
       "      <td>0</td>\n",
       "      <td>1467810917</td>\n",
       "      <td>Mon Apr 06 22:19:53 PDT 2009</td>\n",
       "      <td>NO_QUERY</td>\n",
       "      <td>mattycus</td>\n",
       "      <td>@Kenichan I dived many times for the ball. Man...</td>\n",
       "    </tr>\n",
       "  </tbody>\n",
       "</table>\n",
       "</div>"
      ],
      "text/plain": [
       "   target         ids                          date      flag  \\\n",
       "0       0  1467810369  Mon Apr 06 22:19:45 PDT 2009  NO_QUERY   \n",
       "1       0  1467810672  Mon Apr 06 22:19:49 PDT 2009  NO_QUERY   \n",
       "2       0  1467810917  Mon Apr 06 22:19:53 PDT 2009  NO_QUERY   \n",
       "\n",
       "              user                                               text  \n",
       "0  _TheSpecialOne_  @switchfoot http://twitpic.com/2y1zl - Awww, t...  \n",
       "1    scotthamilton  is upset that he can't update his Facebook by ...  \n",
       "2         mattycus  @Kenichan I dived many times for the ball. Man...  "
      ]
     },
     "execution_count": 429,
     "metadata": {},
     "output_type": "execute_result"
    }
   ],
   "source": [
    "data.head(3)"
   ]
  },
  {
   "cell_type": "code",
   "execution_count": 430,
   "id": "0c8e9c18-3515-40a5-9077-31138796454c",
   "metadata": {
    "tags": []
   },
   "outputs": [
    {
     "data": {
      "text/plain": [
       "(1600000, 6)"
      ]
     },
     "execution_count": 430,
     "metadata": {},
     "output_type": "execute_result"
    }
   ],
   "source": [
    "data.shape"
   ]
  },
  {
   "cell_type": "code",
   "execution_count": 431,
   "id": "eb7b235f-bb98-43b0-b0e0-331efa6a268d",
   "metadata": {},
   "outputs": [
    {
     "name": "stdout",
     "output_type": "stream",
     "text": [
      "<class 'pandas.core.frame.DataFrame'>\n",
      "RangeIndex: 1600000 entries, 0 to 1599999\n",
      "Data columns (total 6 columns):\n",
      " #   Column  Non-Null Count    Dtype \n",
      "---  ------  --------------    ----- \n",
      " 0   target  1600000 non-null  int64 \n",
      " 1   ids     1600000 non-null  int64 \n",
      " 2   date    1600000 non-null  object\n",
      " 3   flag    1600000 non-null  object\n",
      " 4   user    1600000 non-null  object\n",
      " 5   text    1600000 non-null  object\n",
      "dtypes: int64(2), object(4)\n",
      "memory usage: 73.2+ MB\n"
     ]
    }
   ],
   "source": [
    "data.info()"
   ]
  },
  {
   "cell_type": "markdown",
   "id": "96e9be94-5ff7-423d-a888-f8a9d988529a",
   "metadata": {},
   "source": [
    "Target column has two distinct values 0 and 4, 0 is for negative sentiment and 4 is for positive sentiment.\n",
    "\n",
    "Also looking at the value counts for each class(0 and 4), we can say the data is balanced so no need for balancing further"
   ]
  },
  {
   "cell_type": "code",
   "execution_count": 432,
   "id": "9485ea11-eb7e-4c1a-acb6-c51cfa497168",
   "metadata": {
    "tags": []
   },
   "outputs": [
    {
     "data": {
      "text/plain": [
       "0    800000\n",
       "4    800000\n",
       "Name: target, dtype: int64"
      ]
     },
     "execution_count": 432,
     "metadata": {},
     "output_type": "execute_result"
    }
   ],
   "source": [
    "data[\"target\"].value_counts()"
   ]
  },
  {
   "cell_type": "code",
   "execution_count": 433,
   "id": "fa1f5029-67a6-406d-99b6-b65d60c32ecc",
   "metadata": {
    "tags": []
   },
   "outputs": [
    {
     "data": {
      "text/plain": [
       "target     int64\n",
       "ids        int64\n",
       "date      object\n",
       "flag      object\n",
       "user      object\n",
       "text      object\n",
       "dtype: object"
      ]
     },
     "execution_count": 433,
     "metadata": {},
     "output_type": "execute_result"
    }
   ],
   "source": [
    "data.dtypes"
   ]
  },
  {
   "cell_type": "markdown",
   "id": "56f90f2c-bbcf-45a6-809e-f109fa0c8d60",
   "metadata": {},
   "source": [
    "There is no null values present in dataset (so no need to handle null values)"
   ]
  },
  {
   "cell_type": "code",
   "execution_count": 434,
   "id": "bdfd341e-3c0a-423b-beda-a9dacda1feeb",
   "metadata": {
    "tags": []
   },
   "outputs": [
    {
     "data": {
      "text/plain": [
       "target    False\n",
       "ids       False\n",
       "date      False\n",
       "flag      False\n",
       "user      False\n",
       "text      False\n",
       "dtype: bool"
      ]
     },
     "execution_count": 434,
     "metadata": {},
     "output_type": "execute_result"
    }
   ],
   "source": [
    "data.isnull().any()"
   ]
  },
  {
   "cell_type": "markdown",
   "id": "d23f16b7-48f5-45e1-9941-33fd1b35ec21",
   "metadata": {
    "tags": []
   },
   "source": [
    "## Data Cleaning and Preprocessing"
   ]
  },
  {
   "cell_type": "markdown",
   "id": "e9ad53b5-d4c6-4e39-a420-2de218754860",
   "metadata": {},
   "source": [
    "Selecting the two useful columns namely 1. Target and 2. Text"
   ]
  },
  {
   "cell_type": "code",
   "execution_count": 435,
   "id": "844e2136-b4cc-4ff3-aeca-2a8d53a15255",
   "metadata": {
    "tags": []
   },
   "outputs": [
    {
     "data": {
      "text/plain": [
       "Index(['target', 'ids', 'date', 'flag', 'user', 'text'], dtype='object')"
      ]
     },
     "execution_count": 435,
     "metadata": {},
     "output_type": "execute_result"
    }
   ],
   "source": [
    "data.columns"
   ]
  },
  {
   "cell_type": "code",
   "execution_count": 436,
   "id": "f9ed6e26-5e93-4e69-85d1-f5570631aac5",
   "metadata": {
    "tags": []
   },
   "outputs": [],
   "source": [
    "data = data[['target','text']]"
   ]
  },
  {
   "cell_type": "markdown",
   "id": "c9fd57aa-829a-42d7-9eba-71b9b5c8e0df",
   "metadata": {},
   "source": [
    "Setting the target value = 4 to 1"
   ]
  },
  {
   "cell_type": "code",
   "execution_count": 437,
   "id": "08a53115-5e58-4391-8159-aa16b371d8de",
   "metadata": {
    "tags": []
   },
   "outputs": [],
   "source": [
    "data['target'][data['target']==4]=1"
   ]
  },
  {
   "cell_type": "markdown",
   "id": "b7cb7adb-e97d-4cb2-9140-903ffa58db03",
   "metadata": {
    "tags": []
   },
   "source": [
    "For now we are taking 1/4th of the data of both classes to train our model (will further see how the change in data size affects the model accuracy)"
   ]
  },
  {
   "cell_type": "code",
   "execution_count": 438,
   "id": "7a480355-7e56-428e-9c7e-ed2f495722af",
   "metadata": {
    "tags": []
   },
   "outputs": [],
   "source": [
    "data_positive = data[data['target']==1].iloc[:80000]\n",
    "data_negative = data[data['target']==0].iloc[:80000]"
   ]
  },
  {
   "cell_type": "code",
   "execution_count": 439,
   "id": "01f38392-1b35-4b46-9e48-d4f531ae54af",
   "metadata": {
    "tags": []
   },
   "outputs": [
    {
     "name": "stdout",
     "output_type": "stream",
     "text": [
      "(80000, 2)\n",
      "(80000, 2)\n"
     ]
    }
   ],
   "source": [
    "print(data_positive.shape)\n",
    "print(data_negative.shape)"
   ]
  },
  {
   "cell_type": "code",
   "execution_count": 440,
   "id": "19d3f9c6-99f3-44b4-a51f-d42b45c6aec2",
   "metadata": {
    "tags": []
   },
   "outputs": [
    {
     "data": {
      "text/html": [
       "<div>\n",
       "<style scoped>\n",
       "    .dataframe tbody tr th:only-of-type {\n",
       "        vertical-align: middle;\n",
       "    }\n",
       "\n",
       "    .dataframe tbody tr th {\n",
       "        vertical-align: top;\n",
       "    }\n",
       "\n",
       "    .dataframe thead th {\n",
       "        text-align: right;\n",
       "    }\n",
       "</style>\n",
       "<table border=\"1\" class=\"dataframe\">\n",
       "  <thead>\n",
       "    <tr style=\"text-align: right;\">\n",
       "      <th></th>\n",
       "      <th>target</th>\n",
       "      <th>text</th>\n",
       "    </tr>\n",
       "  </thead>\n",
       "  <tbody>\n",
       "    <tr>\n",
       "      <th>800000</th>\n",
       "      <td>1</td>\n",
       "      <td>I LOVE @Health4UandPets u guys r the best!!</td>\n",
       "    </tr>\n",
       "    <tr>\n",
       "      <th>800001</th>\n",
       "      <td>1</td>\n",
       "      <td>im meeting up with one of my besties tonight! ...</td>\n",
       "    </tr>\n",
       "  </tbody>\n",
       "</table>\n",
       "</div>"
      ],
      "text/plain": [
       "        target                                               text\n",
       "800000       1       I LOVE @Health4UandPets u guys r the best!! \n",
       "800001       1  im meeting up with one of my besties tonight! ..."
      ]
     },
     "execution_count": 440,
     "metadata": {},
     "output_type": "execute_result"
    }
   ],
   "source": [
    "data_positive.head(2)"
   ]
  },
  {
   "cell_type": "markdown",
   "id": "b99c6612-1cdf-47d8-871d-521e0a4cbba7",
   "metadata": {},
   "source": [
    "concating the whole dataset again to combine both classes in one dataset"
   ]
  },
  {
   "cell_type": "code",
   "execution_count": 441,
   "id": "f56568a3-bfa1-45f0-bcb5-3b79fb62fa16",
   "metadata": {
    "tags": []
   },
   "outputs": [
    {
     "name": "stdout",
     "output_type": "stream",
     "text": [
      "(160000, 2)\n"
     ]
    }
   ],
   "source": [
    "data = pd.concat([data_positive,data_negative],axis=0,ignore_index=True)\n",
    "print(data.shape)"
   ]
  },
  {
   "cell_type": "code",
   "execution_count": 442,
   "id": "11f34f6e-fc78-49be-a086-5c98915bf9b9",
   "metadata": {
    "tags": []
   },
   "outputs": [
    {
     "data": {
      "text/html": [
       "<div>\n",
       "<style scoped>\n",
       "    .dataframe tbody tr th:only-of-type {\n",
       "        vertical-align: middle;\n",
       "    }\n",
       "\n",
       "    .dataframe tbody tr th {\n",
       "        vertical-align: top;\n",
       "    }\n",
       "\n",
       "    .dataframe thead th {\n",
       "        text-align: right;\n",
       "    }\n",
       "</style>\n",
       "<table border=\"1\" class=\"dataframe\">\n",
       "  <thead>\n",
       "    <tr style=\"text-align: right;\">\n",
       "      <th></th>\n",
       "      <th>target</th>\n",
       "      <th>text</th>\n",
       "    </tr>\n",
       "  </thead>\n",
       "  <tbody>\n",
       "    <tr>\n",
       "      <th>0</th>\n",
       "      <td>1</td>\n",
       "      <td>I LOVE @Health4UandPets u guys r the best!!</td>\n",
       "    </tr>\n",
       "    <tr>\n",
       "      <th>1</th>\n",
       "      <td>1</td>\n",
       "      <td>im meeting up with one of my besties tonight! ...</td>\n",
       "    </tr>\n",
       "  </tbody>\n",
       "</table>\n",
       "</div>"
      ],
      "text/plain": [
       "   target                                               text\n",
       "0       1       I LOVE @Health4UandPets u guys r the best!! \n",
       "1       1  im meeting up with one of my besties tonight! ..."
      ]
     },
     "execution_count": 442,
     "metadata": {},
     "output_type": "execute_result"
    }
   ],
   "source": [
    "data.head(2)"
   ]
  },
  {
   "cell_type": "code",
   "execution_count": 443,
   "id": "f383f062-8147-4f01-a39c-05d96aeaa9bd",
   "metadata": {
    "tags": []
   },
   "outputs": [
    {
     "name": "stdout",
     "output_type": "stream",
     "text": [
      "@r_keith_hill Thans for your response. Ihad already find this answer \n",
      "69\n",
      "1\n"
     ]
    }
   ],
   "source": [
    "n = 6\n",
    "print(data['text'][n])\n",
    "print(len(data['text'][n]))\n",
    "print(data['target'][n])"
   ]
  },
  {
   "cell_type": "markdown",
   "id": "545d9737-b835-418f-8477-5001ef0bcc16",
   "metadata": {},
   "source": [
    "### Data Cleaning"
   ]
  },
  {
   "cell_type": "markdown",
   "id": "951b39c3-4917-42fe-a6d8-1c6d53860310",
   "metadata": {},
   "source": [
    "Before cleaning the text i am making a copy of data frame to compare later"
   ]
  },
  {
   "cell_type": "code",
   "execution_count": 444,
   "id": "d8c8e06d-11cb-4ae4-8fb1-5a905d365516",
   "metadata": {
    "tags": []
   },
   "outputs": [],
   "source": [
    "data_c = data.copy(deep=True)"
   ]
  },
  {
   "cell_type": "code",
   "execution_count": 445,
   "id": "354d4452-7710-4cee-9c27-8a928f135664",
   "metadata": {
    "tags": []
   },
   "outputs": [
    {
     "data": {
      "text/plain": [
       "2767340768144"
      ]
     },
     "execution_count": 445,
     "metadata": {},
     "output_type": "execute_result"
    }
   ],
   "source": [
    "id(data)"
   ]
  },
  {
   "cell_type": "code",
   "execution_count": 446,
   "id": "87e6571e-4ac5-4e88-9bb6-f7e5d337cd06",
   "metadata": {
    "tags": []
   },
   "outputs": [
    {
     "data": {
      "text/plain": [
       "2769321619600"
      ]
     },
     "execution_count": 446,
     "metadata": {},
     "output_type": "execute_result"
    }
   ],
   "source": [
    "id(data_c)"
   ]
  },
  {
   "cell_type": "markdown",
   "id": "4a402dd8-99d9-48f2-951c-57ab124bd1fb",
   "metadata": {},
   "source": [
    "Looking at some of the text data it contains:\n",
    "- web address (www. or https)\n",
    "- Hashtags #GoWithTheFlow\n",
    "- numerics\n",
    "- alpha-numerics\n",
    "- Upper case and lower case\n",
    "- Punctuations\n",
    "- @switchfoot kind of tagging\n",
    "- repeating words like 'haaappppyyyyy', 'soooooo much', 'Thanksss', 'nooooo'\n",
    "- Emoticons\n",
    "- words like u for you and r for are "
   ]
  },
  {
   "cell_type": "markdown",
   "id": "d2c3ab0d-6201-4e33-ae8c-181a1f818233",
   "metadata": {},
   "source": [
    "Some preprocessings for text:\n",
    "- lower case\n",
    "- Punctuations removal\n",
    "- Stopwords removal except for the 'not', 'shouldn't' didn't etc, as these words changes the sentiment of a text\n",
    "- "
   ]
  },
  {
   "cell_type": "markdown",
   "id": "e3045c27-e6c5-40e8-b01a-f3a39b277ec5",
   "metadata": {},
   "source": [
    "Converting everything to lower case for uniformity of same words presented in both upper and lower case"
   ]
  },
  {
   "cell_type": "code",
   "execution_count": 447,
   "id": "46f1e3a5-fc4b-44e3-b4cf-c02a9a9ff36f",
   "metadata": {
    "tags": []
   },
   "outputs": [],
   "source": [
    "data_c['text'] = data_c['text'].apply(lambda x: x.lower())"
   ]
  },
  {
   "cell_type": "code",
   "execution_count": 448,
   "id": "f97f9075-d0ca-4329-b381-11973edb3fc8",
   "metadata": {
    "tags": []
   },
   "outputs": [
    {
     "data": {
      "text/html": [
       "<div>\n",
       "<style scoped>\n",
       "    .dataframe tbody tr th:only-of-type {\n",
       "        vertical-align: middle;\n",
       "    }\n",
       "\n",
       "    .dataframe tbody tr th {\n",
       "        vertical-align: top;\n",
       "    }\n",
       "\n",
       "    .dataframe thead th {\n",
       "        text-align: right;\n",
       "    }\n",
       "</style>\n",
       "<table border=\"1\" class=\"dataframe\">\n",
       "  <thead>\n",
       "    <tr style=\"text-align: right;\">\n",
       "      <th></th>\n",
       "      <th>target</th>\n",
       "      <th>text</th>\n",
       "    </tr>\n",
       "  </thead>\n",
       "  <tbody>\n",
       "    <tr>\n",
       "      <th>0</th>\n",
       "      <td>1</td>\n",
       "      <td>i love @health4uandpets u guys r the best!!</td>\n",
       "    </tr>\n",
       "    <tr>\n",
       "      <th>1</th>\n",
       "      <td>1</td>\n",
       "      <td>im meeting up with one of my besties tonight! ...</td>\n",
       "    </tr>\n",
       "    <tr>\n",
       "      <th>2</th>\n",
       "      <td>1</td>\n",
       "      <td>@darealsunisakim thanks for the twitter add, s...</td>\n",
       "    </tr>\n",
       "    <tr>\n",
       "      <th>3</th>\n",
       "      <td>1</td>\n",
       "      <td>being sick can be really cheap when it hurts t...</td>\n",
       "    </tr>\n",
       "    <tr>\n",
       "      <th>4</th>\n",
       "      <td>1</td>\n",
       "      <td>@lovesbrooklyn2 he has that effect on everyone</td>\n",
       "    </tr>\n",
       "  </tbody>\n",
       "</table>\n",
       "</div>"
      ],
      "text/plain": [
       "   target                                               text\n",
       "0       1       i love @health4uandpets u guys r the best!! \n",
       "1       1  im meeting up with one of my besties tonight! ...\n",
       "2       1  @darealsunisakim thanks for the twitter add, s...\n",
       "3       1  being sick can be really cheap when it hurts t...\n",
       "4       1    @lovesbrooklyn2 he has that effect on everyone "
      ]
     },
     "execution_count": 448,
     "metadata": {},
     "output_type": "execute_result"
    }
   ],
   "source": [
    "data_c.head(5)"
   ]
  },
  {
   "cell_type": "markdown",
   "id": "5753712a-dc56-437f-b6c1-6d81691c9dcd",
   "metadata": {},
   "source": [
    "Removing Hashtags"
   ]
  },
  {
   "cell_type": "code",
   "execution_count": 449,
   "id": "b7871399-0865-4e61-ba36-43d30807fff0",
   "metadata": {
    "tags": []
   },
   "outputs": [],
   "source": [
    "def remove_hashtags(text):\n",
    "    return re.sub('#[^\\s]+', '', text)"
   ]
  },
  {
   "cell_type": "code",
   "execution_count": 450,
   "id": "750a1d45-358d-415d-a594-2b74fc2b7ca4",
   "metadata": {
    "tags": []
   },
   "outputs": [],
   "source": [
    "data_c['text'] = data_c['text'].apply(lambda x: remove_hashtags(x))"
   ]
  },
  {
   "cell_type": "code",
   "execution_count": 451,
   "id": "e181ad0a-ea1f-48fd-9e83-f9eccf2a3d9c",
   "metadata": {
    "tags": []
   },
   "outputs": [
    {
     "data": {
      "text/html": [
       "<div>\n",
       "<style scoped>\n",
       "    .dataframe tbody tr th:only-of-type {\n",
       "        vertical-align: middle;\n",
       "    }\n",
       "\n",
       "    .dataframe tbody tr th {\n",
       "        vertical-align: top;\n",
       "    }\n",
       "\n",
       "    .dataframe thead th {\n",
       "        text-align: right;\n",
       "    }\n",
       "</style>\n",
       "<table border=\"1\" class=\"dataframe\">\n",
       "  <thead>\n",
       "    <tr style=\"text-align: right;\">\n",
       "      <th></th>\n",
       "      <th>target</th>\n",
       "      <th>text</th>\n",
       "    </tr>\n",
       "  </thead>\n",
       "  <tbody>\n",
       "    <tr>\n",
       "      <th>0</th>\n",
       "      <td>1</td>\n",
       "      <td>i love @health4uandpets u guys r the best!!</td>\n",
       "    </tr>\n",
       "    <tr>\n",
       "      <th>1</th>\n",
       "      <td>1</td>\n",
       "      <td>im meeting up with one of my besties tonight! ...</td>\n",
       "    </tr>\n",
       "    <tr>\n",
       "      <th>2</th>\n",
       "      <td>1</td>\n",
       "      <td>@darealsunisakim thanks for the twitter add, s...</td>\n",
       "    </tr>\n",
       "    <tr>\n",
       "      <th>3</th>\n",
       "      <td>1</td>\n",
       "      <td>being sick can be really cheap when it hurts t...</td>\n",
       "    </tr>\n",
       "    <tr>\n",
       "      <th>4</th>\n",
       "      <td>1</td>\n",
       "      <td>@lovesbrooklyn2 he has that effect on everyone</td>\n",
       "    </tr>\n",
       "  </tbody>\n",
       "</table>\n",
       "</div>"
      ],
      "text/plain": [
       "   target                                               text\n",
       "0       1       i love @health4uandpets u guys r the best!! \n",
       "1       1  im meeting up with one of my besties tonight! ...\n",
       "2       1  @darealsunisakim thanks for the twitter add, s...\n",
       "3       1  being sick can be really cheap when it hurts t...\n",
       "4       1    @lovesbrooklyn2 he has that effect on everyone "
      ]
     },
     "execution_count": 451,
     "metadata": {},
     "output_type": "execute_result"
    }
   ],
   "source": [
    "data_c.head(5)"
   ]
  },
  {
   "cell_type": "markdown",
   "id": "1d0bdef2-9ce1-44bb-afb9-f8987a736eee",
   "metadata": {},
   "source": [
    "Removing usernames like @twitter"
   ]
  },
  {
   "cell_type": "code",
   "execution_count": 452,
   "id": "7e4b729f-3a95-4b11-aaf5-4614b919321b",
   "metadata": {
    "tags": []
   },
   "outputs": [],
   "source": [
    "def remove_username(text):\n",
    "    #text = str(text)\n",
    "    return re.sub('@\\w+?\\s', '', text)"
   ]
  },
  {
   "cell_type": "code",
   "execution_count": 453,
   "id": "174d2f3f-3f38-42e7-944b-b8a4ee82ac35",
   "metadata": {
    "tags": []
   },
   "outputs": [
    {
     "data": {
      "text/plain": [
       "'I LOVE u guys r the'"
      ]
     },
     "execution_count": 453,
     "metadata": {},
     "output_type": "execute_result"
    }
   ],
   "source": [
    "remove_username('I LOVE @Health4UandPets u guys r the')"
   ]
  },
  {
   "cell_type": "code",
   "execution_count": 454,
   "id": "f702fce9-a0b2-42fa-93c9-7eb8d94217bb",
   "metadata": {
    "tags": []
   },
   "outputs": [],
   "source": [
    "data_c['text'] = data_c['text'].apply(lambda x: remove_username(x))"
   ]
  },
  {
   "cell_type": "code",
   "execution_count": 455,
   "id": "4a5e39fd-9912-4788-8ba6-9add2ae1a95f",
   "metadata": {
    "tags": []
   },
   "outputs": [
    {
     "data": {
      "text/html": [
       "<div>\n",
       "<style scoped>\n",
       "    .dataframe tbody tr th:only-of-type {\n",
       "        vertical-align: middle;\n",
       "    }\n",
       "\n",
       "    .dataframe tbody tr th {\n",
       "        vertical-align: top;\n",
       "    }\n",
       "\n",
       "    .dataframe thead th {\n",
       "        text-align: right;\n",
       "    }\n",
       "</style>\n",
       "<table border=\"1\" class=\"dataframe\">\n",
       "  <thead>\n",
       "    <tr style=\"text-align: right;\">\n",
       "      <th></th>\n",
       "      <th>target</th>\n",
       "      <th>text</th>\n",
       "    </tr>\n",
       "  </thead>\n",
       "  <tbody>\n",
       "    <tr>\n",
       "      <th>0</th>\n",
       "      <td>1</td>\n",
       "      <td>I LOVE @Health4UandPets u guys r the best!!</td>\n",
       "    </tr>\n",
       "    <tr>\n",
       "      <th>1</th>\n",
       "      <td>1</td>\n",
       "      <td>im meeting up with one of my besties tonight! ...</td>\n",
       "    </tr>\n",
       "  </tbody>\n",
       "</table>\n",
       "</div>"
      ],
      "text/plain": [
       "   target                                               text\n",
       "0       1       I LOVE @Health4UandPets u guys r the best!! \n",
       "1       1  im meeting up with one of my besties tonight! ..."
      ]
     },
     "execution_count": 455,
     "metadata": {},
     "output_type": "execute_result"
    }
   ],
   "source": [
    "data.head(2)"
   ]
  },
  {
   "cell_type": "code",
   "execution_count": 456,
   "id": "4d7c2cbc-9160-4794-81be-32f1eb195376",
   "metadata": {
    "tags": []
   },
   "outputs": [
    {
     "data": {
      "text/html": [
       "<div>\n",
       "<style scoped>\n",
       "    .dataframe tbody tr th:only-of-type {\n",
       "        vertical-align: middle;\n",
       "    }\n",
       "\n",
       "    .dataframe tbody tr th {\n",
       "        vertical-align: top;\n",
       "    }\n",
       "\n",
       "    .dataframe thead th {\n",
       "        text-align: right;\n",
       "    }\n",
       "</style>\n",
       "<table border=\"1\" class=\"dataframe\">\n",
       "  <thead>\n",
       "    <tr style=\"text-align: right;\">\n",
       "      <th></th>\n",
       "      <th>target</th>\n",
       "      <th>text</th>\n",
       "    </tr>\n",
       "  </thead>\n",
       "  <tbody>\n",
       "    <tr>\n",
       "      <th>0</th>\n",
       "      <td>1</td>\n",
       "      <td>i love u guys r the best!!</td>\n",
       "    </tr>\n",
       "    <tr>\n",
       "      <th>1</th>\n",
       "      <td>1</td>\n",
       "      <td>im meeting up with one of my besties tonight! ...</td>\n",
       "    </tr>\n",
       "  </tbody>\n",
       "</table>\n",
       "</div>"
      ],
      "text/plain": [
       "   target                                               text\n",
       "0       1                        i love u guys r the best!! \n",
       "1       1  im meeting up with one of my besties tonight! ..."
      ]
     },
     "execution_count": 456,
     "metadata": {},
     "output_type": "execute_result"
    }
   ],
   "source": [
    "data_c.head(2)"
   ]
  },
  {
   "cell_type": "markdown",
   "id": "d2530aba-48ac-4675-a9bd-49f1f3c8a46b",
   "metadata": {},
   "source": [
    "Removing web addresses"
   ]
  },
  {
   "cell_type": "code",
   "execution_count": 457,
   "id": "8bc6fc18-627d-484c-8838-d7c8fa2e3c96",
   "metadata": {
    "tags": []
   },
   "outputs": [],
   "source": [
    "def remove_urls(text):\n",
    "    return re.sub('((www\\.[^\\s]+)|(https?://[^\\s]+))','',text)"
   ]
  },
  {
   "cell_type": "code",
   "execution_count": 458,
   "id": "84249d6e-1f1b-43a0-bcef-4f9e3f9c7c73",
   "metadata": {
    "tags": []
   },
   "outputs": [],
   "source": [
    "data_c['text'] = data_c['text'].apply(lambda x: remove_urls(x))"
   ]
  },
  {
   "cell_type": "code",
   "execution_count": 459,
   "id": "0e7d7ff4-c5b5-429d-911b-eadafb46093a",
   "metadata": {
    "tags": []
   },
   "outputs": [
    {
     "data": {
      "text/html": [
       "<div>\n",
       "<style scoped>\n",
       "    .dataframe tbody tr th:only-of-type {\n",
       "        vertical-align: middle;\n",
       "    }\n",
       "\n",
       "    .dataframe tbody tr th {\n",
       "        vertical-align: top;\n",
       "    }\n",
       "\n",
       "    .dataframe thead th {\n",
       "        text-align: right;\n",
       "    }\n",
       "</style>\n",
       "<table border=\"1\" class=\"dataframe\">\n",
       "  <thead>\n",
       "    <tr style=\"text-align: right;\">\n",
       "      <th></th>\n",
       "      <th>target</th>\n",
       "      <th>text</th>\n",
       "    </tr>\n",
       "  </thead>\n",
       "  <tbody>\n",
       "    <tr>\n",
       "      <th>0</th>\n",
       "      <td>1</td>\n",
       "      <td>i love u guys r the best!!</td>\n",
       "    </tr>\n",
       "    <tr>\n",
       "      <th>1</th>\n",
       "      <td>1</td>\n",
       "      <td>im meeting up with one of my besties tonight! ...</td>\n",
       "    </tr>\n",
       "    <tr>\n",
       "      <th>2</th>\n",
       "      <td>1</td>\n",
       "      <td>thanks for the twitter add, sunisa! i got to m...</td>\n",
       "    </tr>\n",
       "    <tr>\n",
       "      <th>3</th>\n",
       "      <td>1</td>\n",
       "      <td>being sick can be really cheap when it hurts t...</td>\n",
       "    </tr>\n",
       "    <tr>\n",
       "      <th>4</th>\n",
       "      <td>1</td>\n",
       "      <td>he has that effect on everyone</td>\n",
       "    </tr>\n",
       "  </tbody>\n",
       "</table>\n",
       "</div>"
      ],
      "text/plain": [
       "   target                                               text\n",
       "0       1                        i love u guys r the best!! \n",
       "1       1  im meeting up with one of my besties tonight! ...\n",
       "2       1  thanks for the twitter add, sunisa! i got to m...\n",
       "3       1  being sick can be really cheap when it hurts t...\n",
       "4       1                    he has that effect on everyone "
      ]
     },
     "execution_count": 459,
     "metadata": {},
     "output_type": "execute_result"
    }
   ],
   "source": [
    "data_c.head(5)"
   ]
  },
  {
   "cell_type": "markdown",
   "id": "86c257af-020a-43ca-bcee-23bfcb6d31df",
   "metadata": {},
   "source": [
    "Using contractions library (i'm --> i am, \"wont\" --> \"will not\", \"dont\"-->\"do not\" etc.)"
   ]
  },
  {
   "cell_type": "code",
   "execution_count": 460,
   "id": "5eddec3d-7712-406d-9de6-9f42792ff410",
   "metadata": {
    "tags": []
   },
   "outputs": [],
   "source": [
    "data_c['text'] = data_c['text'].apply(lambda x: contractions.fix(x))"
   ]
  },
  {
   "cell_type": "code",
   "execution_count": 461,
   "id": "9257b8e8-0b06-413e-800c-22811c034264",
   "metadata": {
    "tags": []
   },
   "outputs": [
    {
     "data": {
      "text/html": [
       "<div>\n",
       "<style scoped>\n",
       "    .dataframe tbody tr th:only-of-type {\n",
       "        vertical-align: middle;\n",
       "    }\n",
       "\n",
       "    .dataframe tbody tr th {\n",
       "        vertical-align: top;\n",
       "    }\n",
       "\n",
       "    .dataframe thead th {\n",
       "        text-align: right;\n",
       "    }\n",
       "</style>\n",
       "<table border=\"1\" class=\"dataframe\">\n",
       "  <thead>\n",
       "    <tr style=\"text-align: right;\">\n",
       "      <th></th>\n",
       "      <th>target</th>\n",
       "      <th>text</th>\n",
       "    </tr>\n",
       "  </thead>\n",
       "  <tbody>\n",
       "    <tr>\n",
       "      <th>0</th>\n",
       "      <td>1</td>\n",
       "      <td>i love you guys r the best!!</td>\n",
       "    </tr>\n",
       "    <tr>\n",
       "      <th>1</th>\n",
       "      <td>1</td>\n",
       "      <td>i am meeting up with one of my besties tonight...</td>\n",
       "    </tr>\n",
       "    <tr>\n",
       "      <th>2</th>\n",
       "      <td>1</td>\n",
       "      <td>thanks for the twitter add, sunisa! i got to m...</td>\n",
       "    </tr>\n",
       "    <tr>\n",
       "      <th>3</th>\n",
       "      <td>1</td>\n",
       "      <td>being sick can be really cheap when it hurts t...</td>\n",
       "    </tr>\n",
       "    <tr>\n",
       "      <th>4</th>\n",
       "      <td>1</td>\n",
       "      <td>he has that effect on everyone</td>\n",
       "    </tr>\n",
       "  </tbody>\n",
       "</table>\n",
       "</div>"
      ],
      "text/plain": [
       "   target                                               text\n",
       "0       1                      i love you guys r the best!! \n",
       "1       1  i am meeting up with one of my besties tonight...\n",
       "2       1  thanks for the twitter add, sunisa! i got to m...\n",
       "3       1  being sick can be really cheap when it hurts t...\n",
       "4       1                    he has that effect on everyone "
      ]
     },
     "execution_count": 461,
     "metadata": {},
     "output_type": "execute_result"
    }
   ],
   "source": [
    "data_c.head(5)"
   ]
  },
  {
   "cell_type": "markdown",
   "id": "0c4c6ab5-7e1d-47af-a765-81421d708658",
   "metadata": {},
   "source": [
    "Punctuations removal"
   ]
  },
  {
   "cell_type": "markdown",
   "id": "e4b8ae71-df93-480a-b550-f840fe08c086",
   "metadata": {},
   "source": [
    "Remember that removing all the punctuations will remove all the emmoticons too (like :) :-) :( etc, so if all the punctuations are removed we cant leverage the emoticons for sentiments.\n",
    "\n",
    "I have to find a way to solve for this problem. ?"
   ]
  },
  {
   "cell_type": "code",
   "execution_count": 462,
   "id": "2ed7252d-f906-43b6-a3ff-675fedd7024f",
   "metadata": {
    "tags": []
   },
   "outputs": [],
   "source": [
    "def remove_punct(text):\n",
    "    english_punctuations = string.punctuation\n",
    "    translator = str.maketrans('','', english_punctuations)\n",
    "    return text.translate(translator)"
   ]
  },
  {
   "cell_type": "code",
   "execution_count": 463,
   "id": "f81db57c-aa94-4ad9-9ef4-862e132e56fe",
   "metadata": {
    "tags": []
   },
   "outputs": [],
   "source": [
    "data_c['text'] = data_c['text'].apply(lambda x: remove_punct(x))"
   ]
  },
  {
   "cell_type": "code",
   "execution_count": 464,
   "id": "3f5f6065-304d-4cad-bdb0-784ca3740594",
   "metadata": {
    "tags": []
   },
   "outputs": [
    {
     "data": {
      "text/html": [
       "<div>\n",
       "<style scoped>\n",
       "    .dataframe tbody tr th:only-of-type {\n",
       "        vertical-align: middle;\n",
       "    }\n",
       "\n",
       "    .dataframe tbody tr th {\n",
       "        vertical-align: top;\n",
       "    }\n",
       "\n",
       "    .dataframe thead th {\n",
       "        text-align: right;\n",
       "    }\n",
       "</style>\n",
       "<table border=\"1\" class=\"dataframe\">\n",
       "  <thead>\n",
       "    <tr style=\"text-align: right;\">\n",
       "      <th></th>\n",
       "      <th>target</th>\n",
       "      <th>text</th>\n",
       "    </tr>\n",
       "  </thead>\n",
       "  <tbody>\n",
       "    <tr>\n",
       "      <th>0</th>\n",
       "      <td>1</td>\n",
       "      <td>i love you guys r the best</td>\n",
       "    </tr>\n",
       "    <tr>\n",
       "      <th>1</th>\n",
       "      <td>1</td>\n",
       "      <td>i am meeting up with one of my besties tonight...</td>\n",
       "    </tr>\n",
       "    <tr>\n",
       "      <th>2</th>\n",
       "      <td>1</td>\n",
       "      <td>thanks for the twitter add sunisa i got to mee...</td>\n",
       "    </tr>\n",
       "    <tr>\n",
       "      <th>3</th>\n",
       "      <td>1</td>\n",
       "      <td>being sick can be really cheap when it hurts t...</td>\n",
       "    </tr>\n",
       "    <tr>\n",
       "      <th>4</th>\n",
       "      <td>1</td>\n",
       "      <td>he has that effect on everyone</td>\n",
       "    </tr>\n",
       "  </tbody>\n",
       "</table>\n",
       "</div>"
      ],
      "text/plain": [
       "   target                                               text\n",
       "0       1                        i love you guys r the best \n",
       "1       1  i am meeting up with one of my besties tonight...\n",
       "2       1  thanks for the twitter add sunisa i got to mee...\n",
       "3       1  being sick can be really cheap when it hurts t...\n",
       "4       1                    he has that effect on everyone "
      ]
     },
     "execution_count": 464,
     "metadata": {},
     "output_type": "execute_result"
    }
   ],
   "source": [
    "data_c.head(5)"
   ]
  },
  {
   "cell_type": "markdown",
   "id": "9dab69db-093c-48d2-9789-2be297504c6c",
   "metadata": {},
   "source": [
    "Removing numbers (as numbers doesn't seem to add any sentiments to a sentence)"
   ]
  },
  {
   "cell_type": "code",
   "execution_count": 465,
   "id": "b7ca5e11-26d0-4ccf-9e17-f2c6351fd39f",
   "metadata": {
    "tags": []
   },
   "outputs": [],
   "source": [
    "def remove_numbers(text):\n",
    "    return re.sub('[0-9]+', '', text)"
   ]
  },
  {
   "cell_type": "code",
   "execution_count": 466,
   "id": "832f7be6-1fbb-45b6-9568-4ef43f86cdbf",
   "metadata": {
    "tags": []
   },
   "outputs": [],
   "source": [
    "data_c['text'] = data_c['text'].apply(lambda x: remove_numbers(x))"
   ]
  },
  {
   "cell_type": "code",
   "execution_count": 467,
   "id": "b8545acd-7f78-4ad7-acc7-d8844d028bc2",
   "metadata": {
    "tags": []
   },
   "outputs": [
    {
     "data": {
      "text/html": [
       "<div>\n",
       "<style scoped>\n",
       "    .dataframe tbody tr th:only-of-type {\n",
       "        vertical-align: middle;\n",
       "    }\n",
       "\n",
       "    .dataframe tbody tr th {\n",
       "        vertical-align: top;\n",
       "    }\n",
       "\n",
       "    .dataframe thead th {\n",
       "        text-align: right;\n",
       "    }\n",
       "</style>\n",
       "<table border=\"1\" class=\"dataframe\">\n",
       "  <thead>\n",
       "    <tr style=\"text-align: right;\">\n",
       "      <th></th>\n",
       "      <th>target</th>\n",
       "      <th>text</th>\n",
       "    </tr>\n",
       "  </thead>\n",
       "  <tbody>\n",
       "    <tr>\n",
       "      <th>0</th>\n",
       "      <td>1</td>\n",
       "      <td>i love you guys r the best</td>\n",
       "    </tr>\n",
       "    <tr>\n",
       "      <th>1</th>\n",
       "      <td>1</td>\n",
       "      <td>i am meeting up with one of my besties tonight...</td>\n",
       "    </tr>\n",
       "    <tr>\n",
       "      <th>2</th>\n",
       "      <td>1</td>\n",
       "      <td>thanks for the twitter add sunisa i got to mee...</td>\n",
       "    </tr>\n",
       "    <tr>\n",
       "      <th>3</th>\n",
       "      <td>1</td>\n",
       "      <td>being sick can be really cheap when it hurts t...</td>\n",
       "    </tr>\n",
       "    <tr>\n",
       "      <th>4</th>\n",
       "      <td>1</td>\n",
       "      <td>he has that effect on everyone</td>\n",
       "    </tr>\n",
       "  </tbody>\n",
       "</table>\n",
       "</div>"
      ],
      "text/plain": [
       "   target                                               text\n",
       "0       1                        i love you guys r the best \n",
       "1       1  i am meeting up with one of my besties tonight...\n",
       "2       1  thanks for the twitter add sunisa i got to mee...\n",
       "3       1  being sick can be really cheap when it hurts t...\n",
       "4       1                    he has that effect on everyone "
      ]
     },
     "execution_count": 467,
     "metadata": {},
     "output_type": "execute_result"
    }
   ],
   "source": [
    "data_c.head(5)"
   ]
  },
  {
   "cell_type": "markdown",
   "id": "6e5f8c9d-138d-435a-83de-12248dc8ed37",
   "metadata": {},
   "source": [
    "Removing Extra Spaces from text"
   ]
  },
  {
   "cell_type": "code",
   "execution_count": 468,
   "id": "d1df4cdf-ed14-4069-bd8a-1b471b625215",
   "metadata": {
    "tags": []
   },
   "outputs": [],
   "source": [
    "def remove_extra_spaces(text):\n",
    "    return re.sub(r'\\s\\s+', ' ', text)"
   ]
  },
  {
   "cell_type": "code",
   "execution_count": 469,
   "id": "2e1a31ac-ec73-460b-bfca-07955d78a548",
   "metadata": {
    "tags": []
   },
   "outputs": [],
   "source": [
    "data_c['text'] = data_c['text'].apply(lambda x: remove_extra_spaces(x))"
   ]
  },
  {
   "cell_type": "markdown",
   "id": "50a9d639-d362-4aed-8d06-faf8fabbdc0f",
   "metadata": {},
   "source": [
    "Spelling correction"
   ]
  },
  {
   "cell_type": "markdown",
   "id": "0a35721a-d103-48b8-acb0-15f8be8b9d0a",
   "metadata": {},
   "source": [
    "In english there is no more than two repeated characters in correct spellings, So removing the more than two repeated characters adn replacing them with only two repeated characters using regex"
   ]
  },
  {
   "cell_type": "code",
   "execution_count": 470,
   "id": "ca351ba8-a3c2-413e-842a-d63f11eb0952",
   "metadata": {
    "tags": []
   },
   "outputs": [],
   "source": [
    "def remove_repeated_char(text,n):\n",
    "    n = str(n)\n",
    "    pattern = r'([a-z])\\1{' + n + r',}'\n",
    "    out_pattern = r'\\1\\1'\n",
    "    return re.sub(pattern, out_pattern, text)"
   ]
  },
  {
   "cell_type": "code",
   "execution_count": 471,
   "id": "581043f0-ca2d-40fc-9f5a-453d987fb9c6",
   "metadata": {
    "tags": []
   },
   "outputs": [],
   "source": [
    "data_c['text'] = data_c['text'].apply(lambda x: remove_repeated_char(x,2))"
   ]
  },
  {
   "cell_type": "code",
   "execution_count": 472,
   "id": "b998b5e2-9824-408e-aae0-95577f70c587",
   "metadata": {
    "tags": []
   },
   "outputs": [
    {
     "data": {
      "text/plain": [
       "'haappy'"
      ]
     },
     "execution_count": 472,
     "metadata": {},
     "output_type": "execute_result"
    }
   ],
   "source": [
    "remove_repeated_char('haaappy',2)"
   ]
  },
  {
   "cell_type": "markdown",
   "id": "5592d569-4e37-4c62-99fa-7ce0f82f3b4f",
   "metadata": {},
   "source": [
    "Corecting spellings using TextBlob library"
   ]
  },
  {
   "cell_type": "markdown",
   "id": "2dcb90ce-950d-4350-8d5e-43eaec0b1ce7",
   "metadata": {},
   "source": [
    "Since pyspellchecker and textblob are almost same but for the word 'guys', textblob outputs 'guns' and pyspellchecker outputs 'guys' and 'checker'-->'checked' in textblob and 'checker'-->'checker' in pyspellchecker , I am going with pyspellchecker as it seems more accurate. though they both converted 'plz' to 'ply'."
   ]
  },
  {
   "cell_type": "markdown",
   "id": "64483092-947f-47cb-9776-44b5822c8cd2",
   "metadata": {},
   "source": [
    "Note: Pyspellchecker returns none for the unknown words and that causes a problem\n",
    "and Both of the spellchecker programs are taking so much time which is why i am ignoring sppell check for now"
   ]
  },
  {
   "cell_type": "code",
   "execution_count": 473,
   "id": "5149e542-25b3-49e6-b123-946c450fe292",
   "metadata": {
    "tags": []
   },
   "outputs": [],
   "source": [
    "# def spell_correct_tb(x):\n",
    "#     b = TextBlob(x)\n",
    "#     return str(b.correct())"
   ]
  },
  {
   "cell_type": "code",
   "execution_count": 474,
   "id": "96bf2fa2-d873-43e3-9ee2-bb0a72133499",
   "metadata": {
    "tags": []
   },
   "outputs": [],
   "source": [
    "# def spell_correct_py(x):\n",
    "#     spell = SpellChecker()\n",
    "#     c = [spell.correction(y) for y in x.split()]\n",
    "#     #print(c)\n",
    "#     return ' '.join(c)"
   ]
  },
  {
   "cell_type": "code",
   "execution_count": null,
   "id": "60b7c666-8efa-4669-b065-d2e49c575224",
   "metadata": {
    "tags": []
   },
   "outputs": [],
   "source": []
  },
  {
   "cell_type": "markdown",
   "id": "d3f77dc5-215f-46a0-bb5a-a9f610915e7d",
   "metadata": {},
   "source": [
    "removing single characters from text"
   ]
  },
  {
   "cell_type": "code",
   "execution_count": 475,
   "id": "f73767cc-dd5e-4d4d-b1f1-fde02359d355",
   "metadata": {
    "tags": []
   },
   "outputs": [],
   "source": [
    "def remove_single(text):\n",
    "    return re.sub(r'\\b[a-z]\\s','',text)"
   ]
  },
  {
   "cell_type": "code",
   "execution_count": 476,
   "id": "81c6c24f-146f-4bc7-982e-f9c0e4a6f753",
   "metadata": {
    "tags": []
   },
   "outputs": [],
   "source": [
    "data_c['text'] = data_c['text'].apply(lambda x: remove_single(x))"
   ]
  },
  {
   "cell_type": "markdown",
   "id": "7519f4e1-f13f-4bb5-8edd-49c82fdcb074",
   "metadata": {},
   "source": [
    "Stop Words handeling"
   ]
  },
  {
   "cell_type": "markdown",
   "id": "ad16dbdf-657b-4743-8d62-d91ffdf52782",
   "metadata": {},
   "source": [
    "I am including 'no' and 'not' in the stopwords as they affect the sentiment of a text,\n",
    "Since we already performed contraction, i can leave \"won't\" \"wouldn't\" \"doesn't\" \"don't\" etc"
   ]
  },
  {
   "cell_type": "code",
   "execution_count": 477,
   "id": "69278bfb-dd48-4225-b0ba-cad438474000",
   "metadata": {
    "tags": []
   },
   "outputs": [],
   "source": [
    "stopwords_list = set(stopwords.words('english'))\n",
    "stop_words = set(stopwords.words('english')) - set(['not', 'no',])\n",
    "#print(stop_words)"
   ]
  },
  {
   "cell_type": "code",
   "execution_count": 478,
   "id": "17595181-72fb-4dd0-9d53-19fb1b1f9c19",
   "metadata": {
    "tags": []
   },
   "outputs": [],
   "source": [
    "def remove_stopwords(text):\n",
    "    return ' '.join([word for word in text.split() if word not in stop_words])"
   ]
  },
  {
   "cell_type": "code",
   "execution_count": 479,
   "id": "ab43f587-0d48-428b-8332-c593e37f0039",
   "metadata": {
    "tags": []
   },
   "outputs": [],
   "source": [
    "data_c['text'] = data_c['text'].apply(lambda text: remove_stopwords(text))"
   ]
  },
  {
   "cell_type": "code",
   "execution_count": 480,
   "id": "dd16dcac-b333-4ad4-a31d-578099f10a55",
   "metadata": {
    "tags": []
   },
   "outputs": [
    {
     "data": {
      "text/plain": [
       "'love guys best'"
      ]
     },
     "execution_count": 480,
     "metadata": {},
     "output_type": "execute_result"
    }
   ],
   "source": [
    "data_c['text'][0]"
   ]
  },
  {
   "cell_type": "code",
   "execution_count": 481,
   "id": "7e3b051d-2092-4ca0-9389-75de6df72d94",
   "metadata": {
    "tags": []
   },
   "outputs": [
    {
     "data": {
      "text/plain": [
       "'I LOVE @Health4UandPets u guys r the best!! '"
      ]
     },
     "execution_count": 481,
     "metadata": {},
     "output_type": "execute_result"
    }
   ],
   "source": [
    "data['text'][0]"
   ]
  },
  {
   "cell_type": "code",
   "execution_count": 482,
   "id": "03adcce5-d9da-4536-ad02-9a176e0b2b61",
   "metadata": {
    "tags": []
   },
   "outputs": [
    {
     "data": {
      "text/plain": [
       "0                                           love guys best\n",
       "1        meeting one besties tonight cannot wait girl talk\n",
       "2        thanks twitter add sunisa got meet hin show dc...\n",
       "3        sick really cheap hurts much eat real food plu...\n",
       "4                                          effect everyone\n",
       "                               ...                        \n",
       "79995    morn waitin sun reappear cool not havin chase ...\n",
       "79996                          still good grief good night\n",
       "79997    morning world taking parents meal today ahem f...\n",
       "79998                             drive ins funjust saying\n",
       "79999                         like twitter page background\n",
       "Name: text, Length: 80000, dtype: object"
      ]
     },
     "execution_count": 482,
     "metadata": {},
     "output_type": "execute_result"
    }
   ],
   "source": [
    "data_c[data_c.target == 1].text"
   ]
  },
  {
   "cell_type": "code",
   "execution_count": 483,
   "id": "0c9ee547-3799-426c-a407-d173b30eb415",
   "metadata": {
    "tags": []
   },
   "outputs": [],
   "source": [
    "#data_c"
   ]
  },
  {
   "cell_type": "code",
   "execution_count": 484,
   "id": "ac0106c5-f071-479d-8539-1130c0f988ad",
   "metadata": {
    "tags": []
   },
   "outputs": [],
   "source": [
    "# plt.figure(figsize = (20,20)) \n",
    "# wc = WordCloud(max_words = 2000 , width = 1600 , height = 800).generate(\" \".join(data_c[data_c.target == 1].text))\n",
    "# plt.imshow(wc , interpolation = 'bilinear')"
   ]
  },
  {
   "cell_type": "code",
   "execution_count": 485,
   "id": "16db82a3-5386-479c-8820-e9e77581e87b",
   "metadata": {},
   "outputs": [],
   "source": [
    "# plt.figure(figsize = (20,20)) \n",
    "# wc = WordCloud(max_words = 2000 , width = 1600 , height = 800).generate(\" \".join(data_c[data_c.target == 0].text))\n",
    "# plt.imshow(wc , interpolation = 'bilinear')"
   ]
  },
  {
   "cell_type": "markdown",
   "id": "081d0489-b288-4018-a966-006a618d7aee",
   "metadata": {},
   "source": [
    "Lemmatization to convert words to their roots"
   ]
  },
  {
   "cell_type": "markdown",
   "id": "94b649ff-a470-4dba-9c27-caac79957607",
   "metadata": {},
   "source": [
    "I will not use lemmatization here (though will see how it affects the output in future) as pointed out in this paper \"The Role of Pre-processing in Twitter Sentiment Analysis\" by Yanwei Bao, Changqin Quan, Lijuan Wang, Fuji Ren (Our experiments results on Stanford Twitter Sentiment\n",
    "Dataset show that URLs features reservation, negation transformation and repeated\n",
    "letters normalization have a positive impact on classification accuracy while stemming and lemmatization have a negative impact. )(https://kd.nsfc.gov.cn/paperDownload/1000013535999.pdf) "
   ]
  },
  {
   "cell_type": "code",
   "execution_count": 486,
   "id": "71d69492-083f-456c-bcea-5ca588640828",
   "metadata": {
    "tags": []
   },
   "outputs": [],
   "source": [
    "# lemmatizer = WordNetLemmatizer()\n",
    "# def lemmatize_text(data):\n",
    "#     text = [lemmatizer.lemmatize(word) for word in data]\n",
    "#     return data"
   ]
  },
  {
   "cell_type": "code",
   "execution_count": null,
   "id": "1353a103-445d-437f-93f2-59de6525354e",
   "metadata": {},
   "outputs": [],
   "source": []
  },
  {
   "cell_type": "code",
   "execution_count": null,
   "id": "2c4c7aeb-c9b2-4e8f-bfcd-5acaf17a1349",
   "metadata": {},
   "outputs": [],
   "source": []
  },
  {
   "cell_type": "markdown",
   "id": "a1fa5d6a-541a-4e65-8dd1-eab1765321f6",
   "metadata": {
    "tags": []
   },
   "source": [
    "## Preparation for Modeling"
   ]
  },
  {
   "cell_type": "markdown",
   "id": "a5956ff9-7204-4814-81e0-73d7a10e3cba",
   "metadata": {
    "tags": []
   },
   "source": [
    "### Tokenization"
   ]
  },
  {
   "cell_type": "markdown",
   "id": "2be8496c-9741-4106-b46f-200759910faa",
   "metadata": {},
   "source": [
    "There is something called nltk.tokenize.TweetTokenizer which is specially made for social media tokenization and it picks up the emoticons as a token too. (only if they are there in text and we did not remove them during punctuation cleaning process)"
   ]
  },
  {
   "cell_type": "markdown",
   "id": "e8898384-6330-4be5-97ed-f73c52009b2f",
   "metadata": {
    "tags": []
   },
   "source": [
    "Useful Links: https://berkeley-stat159-f17.github.io/stat159-f17/lectures/11-strings/11-nltk..html#First-pass"
   ]
  },
  {
   "cell_type": "code",
   "execution_count": 400,
   "id": "cd7a10e8-7edb-45c6-aa55-971bb4195ff6",
   "metadata": {
    "tags": []
   },
   "outputs": [],
   "source": [
    "# tokenizer = RegexpTokenizer(r'\\w+')\n",
    "# data_c['text'] = data_c['text'].apply(tokenizer.tokenize)"
   ]
  },
  {
   "cell_type": "code",
   "execution_count": 401,
   "id": "82e15c4c-7c07-46f8-9737-3b2679601921",
   "metadata": {
    "tags": []
   },
   "outputs": [
    {
     "data": {
      "text/html": [
       "<div>\n",
       "<style scoped>\n",
       "    .dataframe tbody tr th:only-of-type {\n",
       "        vertical-align: middle;\n",
       "    }\n",
       "\n",
       "    .dataframe tbody tr th {\n",
       "        vertical-align: top;\n",
       "    }\n",
       "\n",
       "    .dataframe thead th {\n",
       "        text-align: right;\n",
       "    }\n",
       "</style>\n",
       "<table border=\"1\" class=\"dataframe\">\n",
       "  <thead>\n",
       "    <tr style=\"text-align: right;\">\n",
       "      <th></th>\n",
       "      <th>target</th>\n",
       "      <th>text</th>\n",
       "    </tr>\n",
       "  </thead>\n",
       "  <tbody>\n",
       "    <tr>\n",
       "      <th>0</th>\n",
       "      <td>1</td>\n",
       "      <td>love guys best</td>\n",
       "    </tr>\n",
       "    <tr>\n",
       "      <th>1</th>\n",
       "      <td>1</td>\n",
       "      <td>meeting one besties tonight cannot wait girl talk</td>\n",
       "    </tr>\n",
       "    <tr>\n",
       "      <th>2</th>\n",
       "      <td>1</td>\n",
       "      <td>thanks twitter add sunisa got meet hin show dc...</td>\n",
       "    </tr>\n",
       "    <tr>\n",
       "      <th>3</th>\n",
       "      <td>1</td>\n",
       "      <td>sick really cheap hurts much eat real food plu...</td>\n",
       "    </tr>\n",
       "    <tr>\n",
       "      <th>4</th>\n",
       "      <td>1</td>\n",
       "      <td>effect everyone</td>\n",
       "    </tr>\n",
       "  </tbody>\n",
       "</table>\n",
       "</div>"
      ],
      "text/plain": [
       "   target                                               text\n",
       "0       1                                     love guys best\n",
       "1       1  meeting one besties tonight cannot wait girl talk\n",
       "2       1  thanks twitter add sunisa got meet hin show dc...\n",
       "3       1  sick really cheap hurts much eat real food plu...\n",
       "4       1                                    effect everyone"
      ]
     },
     "execution_count": 401,
     "metadata": {},
     "output_type": "execute_result"
    }
   ],
   "source": [
    "data_c.head()"
   ]
  },
  {
   "cell_type": "code",
   "execution_count": 487,
   "id": "ca8a4d4b-c518-4b6d-9787-ba9ea55cefc8",
   "metadata": {
    "tags": []
   },
   "outputs": [
    {
     "data": {
      "text/plain": [
       "141"
      ]
     },
     "execution_count": 487,
     "metadata": {},
     "output_type": "execute_result"
    }
   ],
   "source": [
    "max([len(x) for x in data_c['text']])"
   ]
  },
  {
   "cell_type": "code",
   "execution_count": 403,
   "id": "b3d5b2b6-8845-4334-8120-d076b43a4d00",
   "metadata": {
    "tags": []
   },
   "outputs": [
    {
     "data": {
      "text/plain": [
       "target                 1\n",
       "text      love guys best\n",
       "Name: 0, dtype: object"
      ]
     },
     "execution_count": 403,
     "metadata": {},
     "output_type": "execute_result"
    }
   ],
   "source": [
    "data_c.iloc[0]"
   ]
  },
  {
   "cell_type": "code",
   "execution_count": 488,
   "id": "63b18bd0-32d8-45e2-88e9-407ef0c9d40b",
   "metadata": {
    "tags": []
   },
   "outputs": [
    {
     "data": {
      "text/plain": [
       "'took niece amp nephew blockbuster rented quotmarleyampmequot amp quotslumdog millionairequot niece kiki reinjured ankle last night bball game'"
      ]
     },
     "execution_count": 488,
     "metadata": {},
     "output_type": "execute_result"
    }
   ],
   "source": [
    "data_c.iloc[data_c.text.str.len().idxmax()]['text']"
   ]
  },
  {
   "cell_type": "markdown",
   "id": "e09edeaf-756d-4d76-853a-11790d77354d",
   "metadata": {},
   "source": [
    "since 36 is the length of the biggest sequnce, So for padding, can we put 36 as the max length of sequence ?"
   ]
  },
  {
   "cell_type": "code",
   "execution_count": 405,
   "id": "9e91590e-cce8-430f-8cc1-a57a1459271d",
   "metadata": {
    "tags": []
   },
   "outputs": [],
   "source": [
    "# plt.figure(figsize = (20,20)) \n",
    "# wc = WordCloud(max_words = 2000 , width = 1600 , height = 800).generate(\" \".join(data_c[data_c.target == 1].text))\n",
    "# plt.imshow(wc , interpolation = 'bilinear')"
   ]
  },
  {
   "cell_type": "code",
   "execution_count": 406,
   "id": "58a04b06-d406-4ab7-a8f0-82678142bcd0",
   "metadata": {
    "tags": []
   },
   "outputs": [],
   "source": [
    "# plt.figure(figsize = (20,20)) \n",
    "# wc = WordCloud(max_words = 2000 , width = 1600 , height = 800).generate(\" \".join(data_c[data_c.target == 0].text))\n",
    "# plt.imshow(wc , interpolation = 'bilinear')"
   ]
  },
  {
   "cell_type": "code",
   "execution_count": 489,
   "id": "36da0bcf-3f09-4a47-8ff7-b6eaf6f9f4b2",
   "metadata": {
    "tags": []
   },
   "outputs": [],
   "source": [
    "X = data_c.text\n",
    "Y = data_c.target"
   ]
  },
  {
   "cell_type": "markdown",
   "id": "2daa2d9b-b631-45e2-913e-2b54bc8cf04a",
   "metadata": {},
   "source": [
    "- num_words decides how many (most frequent) words to consider out of whole vocabulary\n",
    "- max_len decides what will be the max length of the text sequence, and if the actual length of sequence from 'text' table is more than 200, it will get truncated to 200, othervise if actual sequnce length is less than 200, padding(of 0 in blank places) will be added to make the size 200."
   ]
  },
  {
   "cell_type": "code",
   "execution_count": 523,
   "id": "de474237-9893-4f27-9946-da6f758f2125",
   "metadata": {
    "tags": []
   },
   "outputs": [],
   "source": [
    "max_len = 150\n",
    "tokenizer = Tokenizer(num_words=20000)\n",
    "# fit on texts to make internal vocabulary using the 'text' column data\n",
    "tokenizer.fit_on_texts(X)\n",
    "sequences_matrix = sequence.pad_sequences(tokenizer.texts_to_sequences(data_c.text),maxlen=max_len)"
   ]
  },
  {
   "cell_type": "code",
   "execution_count": 524,
   "id": "62e2b972-7a8b-4e99-a887-b9525ff9869e",
   "metadata": {
    "tags": []
   },
   "outputs": [
    {
     "name": "stdout",
     "output_type": "stream",
     "text": [
      "(160000, 2)\n",
      "(160000, 150)\n"
     ]
    }
   ],
   "source": [
    "print(data_c.shape)\n",
    "print(sequences_matrix.shape)"
   ]
  },
  {
   "cell_type": "code",
   "execution_count": 525,
   "id": "d4aab10f-a8b3-4e32-8dc2-8b67c1691e84",
   "metadata": {
    "tags": []
   },
   "outputs": [
    {
     "data": {
      "text/plain": [
       "array([[   0,    0,    0, ...,   14,  120,   94],\n",
       "       [   0,    0,    0, ...,   66,  178,  228],\n",
       "       [   0,    0,    0, ..., 1663, 1313, 2852],\n",
       "       ...,\n",
       "       [   0,    0,    0, ...,  143,  407,   22],\n",
       "       [   0,    0,    0, ...,    3,  723, 1680],\n",
       "       [   0,    0,    0, ...,   67,  218, 1625]])"
      ]
     },
     "execution_count": 525,
     "metadata": {},
     "output_type": "execute_result"
    }
   ],
   "source": [
    "sequences_matrix"
   ]
  },
  {
   "cell_type": "markdown",
   "id": "9211b44a-7c22-49cd-90b7-faa9bff5e418",
   "metadata": {
    "tags": []
   },
   "source": [
    "Train Test split"
   ]
  },
  {
   "cell_type": "code",
   "execution_count": 526,
   "id": "2730bd95-4941-464c-a483-ad49704b4c74",
   "metadata": {
    "tags": []
   },
   "outputs": [],
   "source": [
    "X_train, X_test, Y_train, Y_test = train_test_split(sequences_matrix, data_c.target, test_size=0.3, random_state=2)"
   ]
  },
  {
   "cell_type": "markdown",
   "id": "f323fce2-8662-4c03-bbee-3aa48cba5180",
   "metadata": {},
   "source": [
    "### Training the Model 1\n",
    "#### - using sequential api with LSTM and one dense output layer,\n",
    "#### - Dropout layer after LSTM\n",
    "#### - using pretrained embeddings of 50 dimension (GLOVE twitter) with 36000 tokens\n",
    "#### - 77% val_accuracy\n",
    "#### - model could not capture negation successfully\n",
    "#### - trainable True and trainable False have no significant difference\n",
    "#### - changing the number of tokens to feed in model from 10000 to 20000 leads to 1-1.5% accuracy gain\n",
    "#### - changing the embedding dimension to 200 yeilds abput 1 % more accuracy compare to 50 dimensions but still negation is not detected well"
   ]
  },
  {
   "cell_type": "markdown",
   "id": "d072cf11-3c07-4c1d-b11a-acb9a6708bfa",
   "metadata": {
    "tags": []
   },
   "source": [
    "#### Loading pretrained embeddings"
   ]
  },
  {
   "cell_type": "code",
   "execution_count": 527,
   "id": "e019989e-3281-4586-8daf-65b2365e43b7",
   "metadata": {
    "tags": []
   },
   "outputs": [],
   "source": [
    "embedding_file = r\"C:\\Users\\soitb\\OneDrive\\Desktop\\NLP_practice\\Sentiment analysis\\glove.twitter.27B.50d.txt\""
   ]
  },
  {
   "cell_type": "code",
   "execution_count": 528,
   "id": "6d9437a1-ba75-4271-a03f-947da2362560",
   "metadata": {
    "tags": []
   },
   "outputs": [
    {
     "name": "stdout",
     "output_type": "stream",
     "text": [
      "Glove data loaded! In total: 1193514  words.\n"
     ]
    }
   ],
   "source": [
    "embeddings_index = {}\n",
    "\n",
    "f = open(embedding_file, 'r', encoding='utf8')\n",
    "for line in f:\n",
    "    splitLine = line.split(' ')\n",
    "    word = splitLine[0] # the first entry is the word\n",
    "    coefs = np.asarray(splitLine[1:], dtype='float32') # these are the vectors representing word embeddings\n",
    "    embeddings_index[word] = coefs\n",
    "print(\"Glove data loaded! In total:\",len(embeddings_index),\" words.\")"
   ]
  },
  {
   "cell_type": "code",
   "execution_count": 529,
   "id": "c0655512-548a-4e7d-b57b-166f5abe172d",
   "metadata": {
    "tags": []
   },
   "outputs": [
    {
     "data": {
      "text/plain": [
       "array([ 1.7184  ,  0.59313 , -1.0127  , -0.035134,  0.10128 , -0.094347,\n",
       "        0.80396 , -0.53534 ,  0.071382,  0.6096  , -0.19366 , -0.18072 ,\n",
       "       -3.3953  , -0.33915 , -1.059   , -0.2808  , -0.011903, -0.43239 ,\n",
       "       -0.21266 , -0.1419  ,  0.38848 , -0.19258 , -0.96679 ,  0.13206 ,\n",
       "       -1.0388  , -1.5223  ,  0.21438 , -0.96706 , -0.79219 ,  0.55983 ,\n",
       "       -1.3217  , -0.012846, -0.38424 , -0.87618 ,  0.45396 ,  0.13097 ,\n",
       "        0.25639 , -0.32567 , -1.1986  , -0.45258 , -2.0482  ,  0.13736 ,\n",
       "       -0.2627  ,  0.15429 ,  0.066163, -0.015472,  0.056789,  0.017841,\n",
       "       -0.37349 , -0.45217 ], dtype=float32)"
      ]
     },
     "execution_count": 529,
     "metadata": {},
     "output_type": "execute_result"
    }
   ],
   "source": [
    "embeddings_index['twitter']"
   ]
  },
  {
   "cell_type": "code",
   "execution_count": 530,
   "id": "f85344f9-b377-43f3-a2ad-7fd1a2891ffc",
   "metadata": {
    "tags": []
   },
   "outputs": [
    {
     "name": "stdout",
     "output_type": "stream",
     "text": [
      "83506\n",
      "embedding_matrix shape (83506, 50)\n"
     ]
    }
   ],
   "source": [
    "# + 1 to account for padding token.\n",
    "num_tokens = len(tokenizer.word_index) + 1\n",
    "print(num_tokens)\n",
    "# Initialize a matrix of zeroes of size: vocabulary x embedding dimension.\n",
    "embedding_dim = 50\n",
    "embedding_matrix = np.zeros((num_tokens, embedding_dim))\n",
    "\n",
    "for word, i in tokenizer.word_index.items():\n",
    "  if word in embeddings_index.keys():\n",
    "    embedding_matrix[i] = embeddings_index[word].copy()\n",
    "print('embedding_matrix shape',embedding_matrix.shape)"
   ]
  },
  {
   "cell_type": "code",
   "execution_count": 531,
   "id": "05e5c9f0-81df-4f9c-a10d-8d19841740d9",
   "metadata": {
    "tags": []
   },
   "outputs": [],
   "source": [
    "embedding_layer = Embedding(num_tokens,\n",
    "                            embedding_dim, \n",
    "                            input_length=max_len,\n",
    "embeddings_initializer=keras.initializers.Constant(embedding_matrix),\n",
    "                            trainable=True)"
   ]
  },
  {
   "cell_type": "code",
   "execution_count": 551,
   "id": "9445e65b-e9c0-441f-9e69-ebd9293e5346",
   "metadata": {
    "tags": []
   },
   "outputs": [
    {
     "name": "stdout",
     "output_type": "stream",
     "text": [
      "Model: \"sequential_10\"\n",
      "_________________________________________________________________\n",
      " Layer (type)                Output Shape              Param #   \n",
      "=================================================================\n",
      " embedding_8 (Embedding)     (None, 150, 50)           4175300   \n",
      "                                                                 \n",
      " lstm_10 (LSTM)              (None, 100)               60400     \n",
      "                                                                 \n",
      " dropout_13 (Dropout)        (None, 100)               0         \n",
      "                                                                 \n",
      " dense_19 (Dense)            (None, 64)                6464      \n",
      "                                                                 \n",
      " dropout_14 (Dropout)        (None, 64)                0         \n",
      "                                                                 \n",
      " dense_20 (Dense)            (None, 1)                 65        \n",
      "                                                                 \n",
      "=================================================================\n",
      "Total params: 4242229 (16.18 MB)\n",
      "Trainable params: 4242229 (16.18 MB)\n",
      "Non-trainable params: 0 (0.00 Byte)\n",
      "_________________________________________________________________\n"
     ]
    }
   ],
   "source": [
    "model = Sequential()\n",
    "model.add(embedding_layer)\n",
    "model.add(LSTM(100, dropout=0.2, recurrent_dropout=0.2))\n",
    "model.add(Dropout(0.5))\n",
    "model.add(Dense(64,activation='relu'))\n",
    "model.add(Dropout(0.5))\n",
    "model.add(Dense(1, activation='sigmoid'))\n",
    "model.summary()"
   ]
  },
  {
   "cell_type": "code",
   "execution_count": 552,
   "id": "8e8856ce-be05-4366-a519-8beeb7af5e4e",
   "metadata": {
    "tags": []
   },
   "outputs": [],
   "source": [
    "model.compile(loss='binary_crossentropy',\n",
    "              optimizer=\"adam\",\n",
    "              metrics=['accuracy'])"
   ]
  },
  {
   "cell_type": "code",
   "execution_count": 553,
   "id": "ee4f318d-e9bb-4db5-8d23-45ecba551fdb",
   "metadata": {
    "tags": []
   },
   "outputs": [],
   "source": [
    "callbacks = [ ReduceLROnPlateau(monitor='val_loss', patience=3, cooldown=0),\n",
    "              EarlyStopping(monitor='val_accuracy', min_delta=1e-4, patience=3)]"
   ]
  },
  {
   "cell_type": "markdown",
   "id": "667ac3c9-ba92-4750-906b-bcd07d941c91",
   "metadata": {},
   "source": [
    "Smaller Batch size makes model train from each individual trainind data (but slower in training), a bigger batch size may skip nuances (but faster training)"
   ]
  },
  {
   "cell_type": "code",
   "execution_count": 554,
   "id": "887f3d09-8d59-4abc-a9b1-d68a73a42118",
   "metadata": {
    "tags": []
   },
   "outputs": [],
   "source": [
    "BATCH_SIZE = 150\n",
    "EPOCHS = 8"
   ]
  },
  {
   "cell_type": "code",
   "execution_count": 555,
   "id": "a9626df7-3ceb-4d53-bb91-d1c840f9df2e",
   "metadata": {
    "tags": []
   },
   "outputs": [
    {
     "name": "stdout",
     "output_type": "stream",
     "text": [
      "Epoch 1/8\n",
      "672/672 [==============================] - 864s 1s/step - loss: 0.4267 - accuracy: 0.8067 - val_loss: 0.4713 - val_accuracy: 0.7845 - lr: 0.0010\n",
      "Epoch 2/8\n",
      "672/672 [==============================] - 830s 1s/step - loss: 0.3789 - accuracy: 0.8321 - val_loss: 0.4756 - val_accuracy: 0.7859 - lr: 0.0010\n",
      "Epoch 3/8\n",
      "672/672 [==============================] - 821s 1s/step - loss: 0.3603 - accuracy: 0.8404 - val_loss: 0.4996 - val_accuracy: 0.7860 - lr: 0.0010\n",
      "Epoch 4/8\n",
      "672/672 [==============================] - 837s 1s/step - loss: 0.3448 - accuracy: 0.8474 - val_loss: 0.5298 - val_accuracy: 0.7827 - lr: 0.0010\n",
      "Epoch 5/8\n",
      "672/672 [==============================] - 830s 1s/step - loss: 0.3198 - accuracy: 0.8596 - val_loss: 0.5554 - val_accuracy: 0.7850 - lr: 1.0000e-04\n",
      "CPU times: total: 41min 3s\n",
      "Wall time: 1h 9min 42s\n"
     ]
    }
   ],
   "source": [
    "%%time\n",
    "history = model.fit(X_train, Y_train,\n",
    "                    batch_size=BATCH_SIZE,\n",
    "                    epochs=EPOCHS,\n",
    "                    validation_split=0.1,\n",
    "                    verbose=1,\n",
    "                    callbacks=callbacks)"
   ]
  },
  {
   "cell_type": "code",
   "execution_count": 537,
   "id": "da02aa5d-da41-4ba1-a522-d2057626cc9d",
   "metadata": {
    "tags": []
   },
   "outputs": [
    {
     "name": "stdout",
     "output_type": "stream",
     "text": [
      "320/320 [==============================] - 15s 47ms/step - loss: 0.4693 - accuracy: 0.7868\n",
      "\n",
      "ACCURACY: 0.7867708206176758\n",
      "LOSS: 0.46927839517593384\n",
      "CPU times: total: 7.48 s\n",
      "Wall time: 15.2 s\n"
     ]
    }
   ],
   "source": [
    "%%time\n",
    "score = model.evaluate(X_test, Y_test, batch_size=BATCH_SIZE)\n",
    "print()\n",
    "print(\"ACCURACY:\",score[1])\n",
    "print(\"LOSS:\",score[0])"
   ]
  },
  {
   "cell_type": "code",
   "execution_count": 538,
   "id": "d642c690-5767-4001-b778-bcc3cca3de0a",
   "metadata": {
    "tags": []
   },
   "outputs": [
    {
     "data": {
      "text/plain": [
       "{'loss': [0.5311169028282166,\n",
       "  0.46343791484832764,\n",
       "  0.43844208121299744,\n",
       "  0.4174964427947998,\n",
       "  0.39861753582954407,\n",
       "  0.38162240386009216,\n",
       "  0.3575288653373718],\n",
       " 'accuracy': [0.7322420477867126,\n",
       "  0.7811607122421265,\n",
       "  0.7981349229812622,\n",
       "  0.8094642758369446,\n",
       "  0.8206745982170105,\n",
       "  0.8288690447807312,\n",
       "  0.8418353199958801],\n",
       " 'val_loss': [0.4652586281299591,\n",
       "  0.44913145899772644,\n",
       "  0.4443277418613434,\n",
       "  0.44796669483184814,\n",
       "  0.4490497410297394,\n",
       "  0.46803367137908936,\n",
       "  0.46530771255493164],\n",
       " 'val_accuracy': [0.7835714221000671,\n",
       "  0.7903571724891663,\n",
       "  0.792946457862854,\n",
       "  0.7950000166893005,\n",
       "  0.793749988079071,\n",
       "  0.7909821271896362,\n",
       "  0.793571412563324],\n",
       " 'lr': [0.001, 0.001, 0.001, 0.001, 0.001, 0.001, 0.000100000005]}"
      ]
     },
     "execution_count": 538,
     "metadata": {},
     "output_type": "execute_result"
    }
   ],
   "source": [
    "history.history"
   ]
  },
  {
   "cell_type": "code",
   "execution_count": 549,
   "id": "cbcee266-d3aa-4544-9f16-f955e850db9f",
   "metadata": {
    "tags": []
   },
   "outputs": [
    {
     "data": {
      "image/png": "[encoded data removed]",
      "text/plain": [
       "<Figure size 640x480 with 1 Axes>"
      ]
     },
     "metadata": {},
     "output_type": "display_data"
    },
    {
     "data": {
      "image/png": "[encoded data removed]",
      "text/plain": [
       "<Figure size 640x480 with 1 Axes>"
      ]
     },
     "metadata": {},
     "output_type": "display_data"
    }
   ],
   "source": [
    "acc = history.history['accuracy']\n",
    "val_acc = history.history['val_accuracy']\n",
    "loss = history.history['loss']\n",
    "val_loss = history.history['val_loss']\n",
    "\n",
    "epochs = range(len(acc))\n",
    "\n",
    "plt.plot(epochs, acc, 'b', label='Training acc')\n",
    "plt.plot(epochs, val_acc, 'r', label='Validation acc')\n",
    "plt.title('Training and validation accuracy')\n",
    "plt.legend()\n",
    "\n",
    "plt.figure()\n",
    "\n",
    "plt.plot(epochs, loss, 'b', label='Training loss')\n",
    "plt.plot(epochs, val_loss, 'r', label='Validation loss')\n",
    "plt.title('Training and validation loss')\n",
    "plt.legend()\n",
    "\n",
    "plt.show()"
   ]
  },
  {
   "cell_type": "code",
   "execution_count": 547,
   "id": "14b7e90f-1b11-43e0-8246-558de3d30108",
   "metadata": {
    "tags": []
   },
   "outputs": [],
   "source": [
    "def decode_sentiment(score, include_neutral=False):\n",
    "    if include_neutral:\n",
    "        label = NEUTRAL\n",
    "        if score <= SENTIMENT_THRESHOLDS[0]:\n",
    "            label = 0\n",
    "        elif score >= SENTIMENT_THRESHOLDS[1]:\n",
    "            label = 1\n",
    "\n",
    "        \n",
    "        return label\n",
    "    else:\n",
    "        return 0 if score < 0.5 else 1"
   ]
  },
  {
   "cell_type": "code",
   "execution_count": 548,
   "id": "65564f79-4d89-4e73-bc85-5149e2c404a4",
   "metadata": {
    "tags": []
   },
   "outputs": [],
   "source": [
    "def predict(text, include_neutral=False):\n",
    "    start_at = time.time()\n",
    "    # Tokenize text\n",
    "    x_test = pad_sequences(tokenizer.texts_to_sequences([text]), maxlen=max_len)\n",
    "    # Predict\n",
    "    score = model.predict([x_test])[0]\n",
    "    # Decode sentiment\n",
    "    label = decode_sentiment(score, include_neutral=include_neutral)\n",
    "\n",
    "    return {\"label\": label, \"score\": float(score),\n",
    "       \"elapsed_time\": time.time()-start_at}"
   ]
  },
  {
   "cell_type": "code",
   "execution_count": 542,
   "id": "bcf58ae0-2016-4dad-a7a3-9dbb9d9274a6",
   "metadata": {
    "tags": []
   },
   "outputs": [
    {
     "name": "stdout",
     "output_type": "stream",
     "text": [
      "1/1 [==============================] - 0s 233ms/step\n"
     ]
    },
    {
     "data": {
      "text/plain": [
       "{'label': 1, 'score': 0.976178765296936, 'elapsed_time': 0.28850817680358887}"
      ]
     },
     "execution_count": 542,
     "metadata": {},
     "output_type": "execute_result"
    }
   ],
   "source": [
    "predict(\"I love the music\")"
   ]
  },
  {
   "cell_type": "code",
   "execution_count": 543,
   "id": "f1f92d71-704c-4eb3-a7aa-7303c62d0a66",
   "metadata": {
    "tags": []
   },
   "outputs": [
    {
     "name": "stdout",
     "output_type": "stream",
     "text": [
      "1/1 [==============================] - 0s 29ms/step\n"
     ]
    },
    {
     "data": {
      "text/plain": [
       "{'label': 0,\n",
       " 'score': 0.040031544864177704,\n",
       " 'elapsed_time': 0.061626434326171875}"
      ]
     },
     "execution_count": 543,
     "metadata": {},
     "output_type": "execute_result"
    }
   ],
   "source": [
    "predict(\"I hate the rain\")"
   ]
  },
  {
   "cell_type": "code",
   "execution_count": 544,
   "id": "ef576fc4-5377-4510-b9d6-ead0b3d76055",
   "metadata": {
    "tags": []
   },
   "outputs": [
    {
     "name": "stdout",
     "output_type": "stream",
     "text": [
      "1/1 [==============================] - 0s 32ms/step\n"
     ]
    },
    {
     "data": {
      "text/plain": [
       "{'label': 0, 'score': 0.38805845379829407, 'elapsed_time': 0.07611751556396484}"
      ]
     },
     "execution_count": 544,
     "metadata": {},
     "output_type": "execute_result"
    }
   ],
   "source": [
    "predict(\"wow what a pain in the butt\")"
   ]
  },
  {
   "cell_type": "markdown",
   "id": "6a4e0b41-e7ea-4d6c-9a17-83a022c17dfe",
   "metadata": {},
   "source": [
    "Looking at the below output, we can see that the model is not good at understanding the effect of 'not',\n",
    "\n",
    "when 'not' is used with 'good' it reduces the score, but when used with 'bad' its not increasing the score\n",
    "\n",
    "what can we do about it ??????????????????????????????????????????????????????????????????????????"
   ]
  },
  {
   "cell_type": "code",
   "execution_count": 556,
   "id": "589ce5c8-ac71-4000-8cee-cffdf0e0624e",
   "metadata": {
    "tags": []
   },
   "outputs": [
    {
     "name": "stdout",
     "output_type": "stream",
     "text": [
      "1/1 [==============================] - 0s 295ms/step\n",
      "{'label': 1, 'score': 0.983025074005127, 'elapsed_time': 0.39402294158935547}\n",
      "1/1 [==============================] - 0s 42ms/step\n",
      "{'label': 0, 'score': 0.11910117417573929, 'elapsed_time': 0.07703542709350586}\n",
      "1/1 [==============================] - 0s 49ms/step\n",
      "{'label': 1, 'score': 0.5048635005950928, 'elapsed_time': 0.0840003490447998}\n",
      "1/1 [==============================] - 0s 44ms/step\n",
      "{'label': 0, 'score': 0.07624607533216476, 'elapsed_time': 0.07721376419067383}\n",
      "1/1 [==============================] - 0s 46ms/step\n",
      "{'label': 0, 'score': 0.25964340567588806, 'elapsed_time': 0.0800018310546875}\n"
     ]
    }
   ],
   "source": [
    "print(predict(\"good\"))\n",
    "print(predict(\"not good\"))\n",
    "print(predict(\"not bad\"))\n",
    "print(predict(\"bad\"))\n",
    "print(predict(\"not\"))"
   ]
  },
  {
   "cell_type": "code",
   "execution_count": null,
   "id": "dd294585-624b-4d1e-b377-9e27549319dd",
   "metadata": {
    "tags": []
   },
   "outputs": [],
   "source": []
  },
  {
   "cell_type": "code",
   "execution_count": null,
   "id": "bc2f1ec4-8796-4774-ae50-7becfcc5d161",
   "metadata": {},
   "outputs": [],
   "source": []
  },
  {
   "cell_type": "code",
   "execution_count": null,
   "id": "0bbde0d5-3435-4689-88c9-cd79584c52cb",
   "metadata": {},
   "outputs": [],
   "source": []
  },
  {
   "cell_type": "code",
   "execution_count": null,
   "id": "a0f1a43e-2a7a-41d9-852b-2095b85fcbc3",
   "metadata": {},
   "outputs": [],
   "source": []
  }
 ],
 "metadata": {
  "kernelspec": {
   "display_name": "Python 3 (ipykernel)",
   "language": "python",
   "name": "python3"
  },
  "language_info": {
   "codemirror_mode": {
    "name": "ipython",
    "version": 3
   },
   "file_extension": ".py",
   "mimetype": "text/x-python",
   "name": "python",
   "nbconvert_exporter": "python",
   "pygments_lexer": "ipython3",
   "version": "3.11.3"
  }
 },
 "nbformat": 4,
 "nbformat_minor": 5
}
