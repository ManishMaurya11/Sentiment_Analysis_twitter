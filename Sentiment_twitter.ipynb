{
 "cells": [
  {
   "cell_type": "markdown",
   "id": "6e7c0998-bb3c-458e-beba-e51cc9451612",
   "metadata": {
    "jp-MarkdownHeadingCollapsed": true,
    "tags": []
   },
   "source": [
    "## Imports"
   ]
  },
  {
   "cell_type": "code",
   "execution_count": 59,
   "id": "bf2888a1-e052-44c9-89b4-f94235919a60",
   "metadata": {
    "tags": []
   },
   "outputs": [],
   "source": [
    "import pandas as pd\n",
    "import string\n",
    "import re\n",
    "import contractions\n",
    "from textblob import TextBlob\n",
    "from spellchecker import SpellChecker"
   ]
  },
  {
   "cell_type": "code",
   "execution_count": 3,
   "id": "5ef88357-4158-4e78-9271-ca93ef288498",
   "metadata": {
    "tags": []
   },
   "outputs": [],
   "source": [
    "import nltk\n",
    "from nltk.stem import WordNetLemmatizer\n",
    "from nltk.corpus import stopwords"
   ]
  },
  {
   "cell_type": "code",
   "execution_count": null,
   "id": "11621794-3585-411d-b32d-37c6eb7f8973",
   "metadata": {},
   "outputs": [],
   "source": []
  },
  {
   "cell_type": "markdown",
   "id": "ac16385f-3628-4d0c-b494-801ce6762773",
   "metadata": {
    "jp-MarkdownHeadingCollapsed": true,
    "tags": []
   },
   "source": [
    "## Load Data and explore to understand"
   ]
  },
  {
   "cell_type": "code",
   "execution_count": 4,
   "id": "a4aed7a7-ade6-4082-a02f-ce103e381a89",
   "metadata": {
    "tags": []
   },
   "outputs": [],
   "source": [
    "data = pd.read_csv(r\"C:\\Users\\soitb\\OneDrive\\Desktop\\Datasets\\twitter_sentiments\\training.1600000.processed.noemoticon.csv\",  encoding=\"latin-1\")"
   ]
  },
  {
   "cell_type": "code",
   "execution_count": 5,
   "id": "8978747f-eee7-4a4e-994f-569adc31d94b",
   "metadata": {
    "tags": []
   },
   "outputs": [
    {
     "data": {
      "text/html": [
       "<div>\n",
       "<style scoped>\n",
       "    .dataframe tbody tr th:only-of-type {\n",
       "        vertical-align: middle;\n",
       "    }\n",
       "\n",
       "    .dataframe tbody tr th {\n",
       "        vertical-align: top;\n",
       "    }\n",
       "\n",
       "    .dataframe thead th {\n",
       "        text-align: right;\n",
       "    }\n",
       "</style>\n",
       "<table border=\"1\" class=\"dataframe\">\n",
       "  <thead>\n",
       "    <tr style=\"text-align: right;\">\n",
       "      <th></th>\n",
       "      <th>0</th>\n",
       "      <th>1467810369</th>\n",
       "      <th>Mon Apr 06 22:19:45 PDT 2009</th>\n",
       "      <th>NO_QUERY</th>\n",
       "      <th>_TheSpecialOne_</th>\n",
       "      <th>@switchfoot http://twitpic.com/2y1zl - Awww, that's a bummer.  You shoulda got David Carr of Third Day to do it. ;D</th>\n",
       "    </tr>\n",
       "  </thead>\n",
       "  <tbody>\n",
       "    <tr>\n",
       "      <th>0</th>\n",
       "      <td>0</td>\n",
       "      <td>1467810672</td>\n",
       "      <td>Mon Apr 06 22:19:49 PDT 2009</td>\n",
       "      <td>NO_QUERY</td>\n",
       "      <td>scotthamilton</td>\n",
       "      <td>is upset that he can't update his Facebook by ...</td>\n",
       "    </tr>\n",
       "    <tr>\n",
       "      <th>1</th>\n",
       "      <td>0</td>\n",
       "      <td>1467810917</td>\n",
       "      <td>Mon Apr 06 22:19:53 PDT 2009</td>\n",
       "      <td>NO_QUERY</td>\n",
       "      <td>mattycus</td>\n",
       "      <td>@Kenichan I dived many times for the ball. Man...</td>\n",
       "    </tr>\n",
       "    <tr>\n",
       "      <th>2</th>\n",
       "      <td>0</td>\n",
       "      <td>1467811184</td>\n",
       "      <td>Mon Apr 06 22:19:57 PDT 2009</td>\n",
       "      <td>NO_QUERY</td>\n",
       "      <td>ElleCTF</td>\n",
       "      <td>my whole body feels itchy and like its on fire</td>\n",
       "    </tr>\n",
       "  </tbody>\n",
       "</table>\n",
       "</div>"
      ],
      "text/plain": [
       "   0  1467810369  Mon Apr 06 22:19:45 PDT 2009  NO_QUERY _TheSpecialOne_  \\\n",
       "0  0  1467810672  Mon Apr 06 22:19:49 PDT 2009  NO_QUERY   scotthamilton   \n",
       "1  0  1467810917  Mon Apr 06 22:19:53 PDT 2009  NO_QUERY        mattycus   \n",
       "2  0  1467811184  Mon Apr 06 22:19:57 PDT 2009  NO_QUERY         ElleCTF   \n",
       "\n",
       "  @switchfoot http://twitpic.com/2y1zl - Awww, that's a bummer.  You shoulda got David Carr of Third Day to do it. ;D  \n",
       "0  is upset that he can't update his Facebook by ...                                                                   \n",
       "1  @Kenichan I dived many times for the ball. Man...                                                                   \n",
       "2    my whole body feels itchy and like its on fire                                                                    "
      ]
     },
     "execution_count": 5,
     "metadata": {},
     "output_type": "execute_result"
    }
   ],
   "source": [
    "data.head(3)"
   ]
  },
  {
   "cell_type": "code",
   "execution_count": 6,
   "id": "f486bc44-9bbe-48e9-955e-22cd3d8297e5",
   "metadata": {
    "tags": []
   },
   "outputs": [
    {
     "data": {
      "text/plain": [
       "Index(['0', '1467810369', 'Mon Apr 06 22:19:45 PDT 2009', 'NO_QUERY',\n",
       "       '_TheSpecialOne_',\n",
       "       '@switchfoot http://twitpic.com/2y1zl - Awww, that's a bummer.  You shoulda got David Carr of Third Day to do it. ;D'],\n",
       "      dtype='object')"
      ]
     },
     "execution_count": 6,
     "metadata": {},
     "output_type": "execute_result"
    }
   ],
   "source": [
    "data.columns"
   ]
  },
  {
   "cell_type": "markdown",
   "id": "8a5cef31-df66-4db1-a184-c6e2bb2fda77",
   "metadata": {},
   "source": [
    "Since the header is not provided, we pass our own list of column names"
   ]
  },
  {
   "cell_type": "code",
   "execution_count": 7,
   "id": "fb10281f-e28c-41cc-8cb7-729a97410e2d",
   "metadata": {
    "tags": []
   },
   "outputs": [],
   "source": [
    "data = pd.read_csv(r\"C:\\Users\\soitb\\OneDrive\\Desktop\\Datasets\\twitter_sentiments\\training.1600000.processed.noemoticon.csv\",  encoding=\"latin-1\", header=None, names=[\"target\",\"ids\",\"date\",\"flag\",\"user\",\"text\"])"
   ]
  },
  {
   "cell_type": "code",
   "execution_count": 8,
   "id": "05c198a8-a1d8-44fd-bf88-d2e357c9b3e0",
   "metadata": {
    "tags": []
   },
   "outputs": [
    {
     "data": {
      "text/html": [
       "<div>\n",
       "<style scoped>\n",
       "    .dataframe tbody tr th:only-of-type {\n",
       "        vertical-align: middle;\n",
       "    }\n",
       "\n",
       "    .dataframe tbody tr th {\n",
       "        vertical-align: top;\n",
       "    }\n",
       "\n",
       "    .dataframe thead th {\n",
       "        text-align: right;\n",
       "    }\n",
       "</style>\n",
       "<table border=\"1\" class=\"dataframe\">\n",
       "  <thead>\n",
       "    <tr style=\"text-align: right;\">\n",
       "      <th></th>\n",
       "      <th>target</th>\n",
       "      <th>ids</th>\n",
       "      <th>date</th>\n",
       "      <th>flag</th>\n",
       "      <th>user</th>\n",
       "      <th>text</th>\n",
       "    </tr>\n",
       "  </thead>\n",
       "  <tbody>\n",
       "    <tr>\n",
       "      <th>0</th>\n",
       "      <td>0</td>\n",
       "      <td>1467810369</td>\n",
       "      <td>Mon Apr 06 22:19:45 PDT 2009</td>\n",
       "      <td>NO_QUERY</td>\n",
       "      <td>_TheSpecialOne_</td>\n",
       "      <td>@switchfoot http://twitpic.com/2y1zl - Awww, t...</td>\n",
       "    </tr>\n",
       "    <tr>\n",
       "      <th>1</th>\n",
       "      <td>0</td>\n",
       "      <td>1467810672</td>\n",
       "      <td>Mon Apr 06 22:19:49 PDT 2009</td>\n",
       "      <td>NO_QUERY</td>\n",
       "      <td>scotthamilton</td>\n",
       "      <td>is upset that he can't update his Facebook by ...</td>\n",
       "    </tr>\n",
       "    <tr>\n",
       "      <th>2</th>\n",
       "      <td>0</td>\n",
       "      <td>1467810917</td>\n",
       "      <td>Mon Apr 06 22:19:53 PDT 2009</td>\n",
       "      <td>NO_QUERY</td>\n",
       "      <td>mattycus</td>\n",
       "      <td>@Kenichan I dived many times for the ball. Man...</td>\n",
       "    </tr>\n",
       "  </tbody>\n",
       "</table>\n",
       "</div>"
      ],
      "text/plain": [
       "   target         ids                          date      flag  \\\n",
       "0       0  1467810369  Mon Apr 06 22:19:45 PDT 2009  NO_QUERY   \n",
       "1       0  1467810672  Mon Apr 06 22:19:49 PDT 2009  NO_QUERY   \n",
       "2       0  1467810917  Mon Apr 06 22:19:53 PDT 2009  NO_QUERY   \n",
       "\n",
       "              user                                               text  \n",
       "0  _TheSpecialOne_  @switchfoot http://twitpic.com/2y1zl - Awww, t...  \n",
       "1    scotthamilton  is upset that he can't update his Facebook by ...  \n",
       "2         mattycus  @Kenichan I dived many times for the ball. Man...  "
      ]
     },
     "execution_count": 8,
     "metadata": {},
     "output_type": "execute_result"
    }
   ],
   "source": [
    "data.head(3)"
   ]
  },
  {
   "cell_type": "code",
   "execution_count": 9,
   "id": "0c8e9c18-3515-40a5-9077-31138796454c",
   "metadata": {
    "tags": []
   },
   "outputs": [
    {
     "data": {
      "text/plain": [
       "(1600000, 6)"
      ]
     },
     "execution_count": 9,
     "metadata": {},
     "output_type": "execute_result"
    }
   ],
   "source": [
    "data.shape"
   ]
  },
  {
   "cell_type": "code",
   "execution_count": 10,
   "id": "eb7b235f-bb98-43b0-b0e0-331efa6a268d",
   "metadata": {},
   "outputs": [
    {
     "name": "stdout",
     "output_type": "stream",
     "text": [
      "<class 'pandas.core.frame.DataFrame'>\n",
      "RangeIndex: 1600000 entries, 0 to 1599999\n",
      "Data columns (total 6 columns):\n",
      " #   Column  Non-Null Count    Dtype \n",
      "---  ------  --------------    ----- \n",
      " 0   target  1600000 non-null  int64 \n",
      " 1   ids     1600000 non-null  int64 \n",
      " 2   date    1600000 non-null  object\n",
      " 3   flag    1600000 non-null  object\n",
      " 4   user    1600000 non-null  object\n",
      " 5   text    1600000 non-null  object\n",
      "dtypes: int64(2), object(4)\n",
      "memory usage: 73.2+ MB\n"
     ]
    }
   ],
   "source": [
    "data.info()"
   ]
  },
  {
   "cell_type": "markdown",
   "id": "96e9be94-5ff7-423d-a888-f8a9d988529a",
   "metadata": {},
   "source": [
    "Target column has two distinct values 0 and 4, 0 is for negative sentiment and 4 is for positive sentiment.\n",
    "\n",
    "Also looking at the value counts for each class(0 and 4), we can say the data is balanced so no need for balancing further"
   ]
  },
  {
   "cell_type": "code",
   "execution_count": 11,
   "id": "9485ea11-eb7e-4c1a-acb6-c51cfa497168",
   "metadata": {
    "tags": []
   },
   "outputs": [
    {
     "data": {
      "text/plain": [
       "0    800000\n",
       "4    800000\n",
       "Name: target, dtype: int64"
      ]
     },
     "execution_count": 11,
     "metadata": {},
     "output_type": "execute_result"
    }
   ],
   "source": [
    "data[\"target\"].value_counts()"
   ]
  },
  {
   "cell_type": "code",
   "execution_count": 12,
   "id": "fa1f5029-67a6-406d-99b6-b65d60c32ecc",
   "metadata": {
    "tags": []
   },
   "outputs": [
    {
     "data": {
      "text/plain": [
       "target     int64\n",
       "ids        int64\n",
       "date      object\n",
       "flag      object\n",
       "user      object\n",
       "text      object\n",
       "dtype: object"
      ]
     },
     "execution_count": 12,
     "metadata": {},
     "output_type": "execute_result"
    }
   ],
   "source": [
    "data.dtypes"
   ]
  },
  {
   "cell_type": "markdown",
   "id": "56f90f2c-bbcf-45a6-809e-f109fa0c8d60",
   "metadata": {},
   "source": [
    "There is no null values present in dataset (so no need to handle null values)"
   ]
  },
  {
   "cell_type": "code",
   "execution_count": 13,
   "id": "bdfd341e-3c0a-423b-beda-a9dacda1feeb",
   "metadata": {
    "tags": []
   },
   "outputs": [
    {
     "data": {
      "text/plain": [
       "target    False\n",
       "ids       False\n",
       "date      False\n",
       "flag      False\n",
       "user      False\n",
       "text      False\n",
       "dtype: bool"
      ]
     },
     "execution_count": 13,
     "metadata": {},
     "output_type": "execute_result"
    }
   ],
   "source": [
    "data.isnull().any()"
   ]
  },
  {
   "cell_type": "markdown",
   "id": "d23f16b7-48f5-45e1-9941-33fd1b35ec21",
   "metadata": {
    "jp-MarkdownHeadingCollapsed": true,
    "tags": []
   },
   "source": [
    "## Data Cleaning and Preprocessing"
   ]
  },
  {
   "cell_type": "markdown",
   "id": "e9ad53b5-d4c6-4e39-a420-2de218754860",
   "metadata": {},
   "source": [
    "Selecting the two useful columns namely 1. Target and 2. Text"
   ]
  },
  {
   "cell_type": "code",
   "execution_count": 14,
   "id": "844e2136-b4cc-4ff3-aeca-2a8d53a15255",
   "metadata": {
    "tags": []
   },
   "outputs": [
    {
     "data": {
      "text/plain": [
       "Index(['target', 'ids', 'date', 'flag', 'user', 'text'], dtype='object')"
      ]
     },
     "execution_count": 14,
     "metadata": {},
     "output_type": "execute_result"
    }
   ],
   "source": [
    "data.columns"
   ]
  },
  {
   "cell_type": "code",
   "execution_count": 15,
   "id": "f9ed6e26-5e93-4e69-85d1-f5570631aac5",
   "metadata": {
    "tags": []
   },
   "outputs": [],
   "source": [
    "data = data[['target','text']]"
   ]
  },
  {
   "cell_type": "markdown",
   "id": "c9fd57aa-829a-42d7-9eba-71b9b5c8e0df",
   "metadata": {},
   "source": [
    "Setting the target value = 4 to 1"
   ]
  },
  {
   "cell_type": "code",
   "execution_count": 16,
   "id": "08a53115-5e58-4391-8159-aa16b371d8de",
   "metadata": {
    "tags": []
   },
   "outputs": [],
   "source": [
    "data['target'][data['target']==4]=1"
   ]
  },
  {
   "cell_type": "markdown",
   "id": "b7cb7adb-e97d-4cb2-9140-903ffa58db03",
   "metadata": {
    "tags": []
   },
   "source": [
    "For now we are taking 1/4th of the data of both classes to train our model (will further see how the change in data size affects the model accuracy)"
   ]
  },
  {
   "cell_type": "code",
   "execution_count": 17,
   "id": "7a480355-7e56-428e-9c7e-ed2f495722af",
   "metadata": {
    "tags": []
   },
   "outputs": [],
   "source": [
    "data_positive = data[data['target']==1].iloc[:20000]\n",
    "data_negative = data[data['target']==0].iloc[:20000]"
   ]
  },
  {
   "cell_type": "code",
   "execution_count": 18,
   "id": "01f38392-1b35-4b46-9e48-d4f531ae54af",
   "metadata": {
    "tags": []
   },
   "outputs": [
    {
     "name": "stdout",
     "output_type": "stream",
     "text": [
      "(20000, 2)\n",
      "(20000, 2)\n"
     ]
    }
   ],
   "source": [
    "print(data_positive.shape)\n",
    "print(data_negative.shape)"
   ]
  },
  {
   "cell_type": "code",
   "execution_count": 19,
   "id": "19d3f9c6-99f3-44b4-a51f-d42b45c6aec2",
   "metadata": {
    "tags": []
   },
   "outputs": [
    {
     "data": {
      "text/html": [
       "<div>\n",
       "<style scoped>\n",
       "    .dataframe tbody tr th:only-of-type {\n",
       "        vertical-align: middle;\n",
       "    }\n",
       "\n",
       "    .dataframe tbody tr th {\n",
       "        vertical-align: top;\n",
       "    }\n",
       "\n",
       "    .dataframe thead th {\n",
       "        text-align: right;\n",
       "    }\n",
       "</style>\n",
       "<table border=\"1\" class=\"dataframe\">\n",
       "  <thead>\n",
       "    <tr style=\"text-align: right;\">\n",
       "      <th></th>\n",
       "      <th>target</th>\n",
       "      <th>text</th>\n",
       "    </tr>\n",
       "  </thead>\n",
       "  <tbody>\n",
       "    <tr>\n",
       "      <th>800000</th>\n",
       "      <td>1</td>\n",
       "      <td>I LOVE @Health4UandPets u guys r the best!!</td>\n",
       "    </tr>\n",
       "    <tr>\n",
       "      <th>800001</th>\n",
       "      <td>1</td>\n",
       "      <td>im meeting up with one of my besties tonight! ...</td>\n",
       "    </tr>\n",
       "  </tbody>\n",
       "</table>\n",
       "</div>"
      ],
      "text/plain": [
       "        target                                               text\n",
       "800000       1       I LOVE @Health4UandPets u guys r the best!! \n",
       "800001       1  im meeting up with one of my besties tonight! ..."
      ]
     },
     "execution_count": 19,
     "metadata": {},
     "output_type": "execute_result"
    }
   ],
   "source": [
    "data_positive.head(2)"
   ]
  },
  {
   "cell_type": "markdown",
   "id": "b99c6612-1cdf-47d8-871d-521e0a4cbba7",
   "metadata": {},
   "source": [
    "concating the whole dataset again to combine both classes in one dataset"
   ]
  },
  {
   "cell_type": "code",
   "execution_count": 20,
   "id": "f56568a3-bfa1-45f0-bcb5-3b79fb62fa16",
   "metadata": {
    "tags": []
   },
   "outputs": [
    {
     "name": "stdout",
     "output_type": "stream",
     "text": [
      "(40000, 2)\n"
     ]
    }
   ],
   "source": [
    "data = pd.concat([data_positive,data_negative],axis=0,ignore_index=True)\n",
    "print(data.shape)"
   ]
  },
  {
   "cell_type": "code",
   "execution_count": 21,
   "id": "11f34f6e-fc78-49be-a086-5c98915bf9b9",
   "metadata": {
    "tags": []
   },
   "outputs": [
    {
     "data": {
      "text/html": [
       "<div>\n",
       "<style scoped>\n",
       "    .dataframe tbody tr th:only-of-type {\n",
       "        vertical-align: middle;\n",
       "    }\n",
       "\n",
       "    .dataframe tbody tr th {\n",
       "        vertical-align: top;\n",
       "    }\n",
       "\n",
       "    .dataframe thead th {\n",
       "        text-align: right;\n",
       "    }\n",
       "</style>\n",
       "<table border=\"1\" class=\"dataframe\">\n",
       "  <thead>\n",
       "    <tr style=\"text-align: right;\">\n",
       "      <th></th>\n",
       "      <th>target</th>\n",
       "      <th>text</th>\n",
       "    </tr>\n",
       "  </thead>\n",
       "  <tbody>\n",
       "    <tr>\n",
       "      <th>0</th>\n",
       "      <td>1</td>\n",
       "      <td>I LOVE @Health4UandPets u guys r the best!!</td>\n",
       "    </tr>\n",
       "    <tr>\n",
       "      <th>1</th>\n",
       "      <td>1</td>\n",
       "      <td>im meeting up with one of my besties tonight! ...</td>\n",
       "    </tr>\n",
       "  </tbody>\n",
       "</table>\n",
       "</div>"
      ],
      "text/plain": [
       "   target                                               text\n",
       "0       1       I LOVE @Health4UandPets u guys r the best!! \n",
       "1       1  im meeting up with one of my besties tonight! ..."
      ]
     },
     "execution_count": 21,
     "metadata": {},
     "output_type": "execute_result"
    }
   ],
   "source": [
    "data.head(2)"
   ]
  },
  {
   "cell_type": "code",
   "execution_count": 22,
   "id": "f383f062-8147-4f01-a39c-05d96aeaa9bd",
   "metadata": {
    "tags": []
   },
   "outputs": [
    {
     "name": "stdout",
     "output_type": "stream",
     "text": [
      "@r_keith_hill Thans for your response. Ihad already find this answer \n",
      "69\n",
      "1\n"
     ]
    }
   ],
   "source": [
    "n = 6\n",
    "print(data['text'][n])\n",
    "print(len(data['text'][n]))\n",
    "print(data['target'][n])"
   ]
  },
  {
   "cell_type": "markdown",
   "id": "545d9737-b835-418f-8477-5001ef0bcc16",
   "metadata": {},
   "source": [
    "### Data Cleaning"
   ]
  },
  {
   "cell_type": "markdown",
   "id": "951b39c3-4917-42fe-a6d8-1c6d53860310",
   "metadata": {},
   "source": [
    "Before cleaning the text i am making a copy of data frame to compare later"
   ]
  },
  {
   "cell_type": "code",
   "execution_count": 23,
   "id": "d8c8e06d-11cb-4ae4-8fb1-5a905d365516",
   "metadata": {
    "tags": []
   },
   "outputs": [],
   "source": [
    "data_c = data.copy(deep=True)"
   ]
  },
  {
   "cell_type": "code",
   "execution_count": 24,
   "id": "354d4452-7710-4cee-9c27-8a928f135664",
   "metadata": {
    "tags": []
   },
   "outputs": [
    {
     "data": {
      "text/plain": [
       "2508571611728"
      ]
     },
     "execution_count": 24,
     "metadata": {},
     "output_type": "execute_result"
    }
   ],
   "source": [
    "id(data)"
   ]
  },
  {
   "cell_type": "code",
   "execution_count": 25,
   "id": "87e6571e-4ac5-4e88-9bb6-f7e5d337cd06",
   "metadata": {
    "tags": []
   },
   "outputs": [
    {
     "data": {
      "text/plain": [
       "2508321438416"
      ]
     },
     "execution_count": 25,
     "metadata": {},
     "output_type": "execute_result"
    }
   ],
   "source": [
    "id(data_c)"
   ]
  },
  {
   "cell_type": "markdown",
   "id": "4a402dd8-99d9-48f2-951c-57ab124bd1fb",
   "metadata": {},
   "source": [
    "Looking at some of the text data it contains:\n",
    "- web address (www. or https)\n",
    "- Hashtags #GoWithTheFlow\n",
    "- numerics\n",
    "- alpha-numerics\n",
    "- Upper case and lower case\n",
    "- Punctuations\n",
    "- @switchfoot kind of tagging\n",
    "- repeating words like 'haaappppyyyyy', 'soooooo much', 'Thanksss', 'nooooo'\n",
    "- Emoticons\n",
    "- words like u for you and r for are "
   ]
  },
  {
   "cell_type": "markdown",
   "id": "d2c3ab0d-6201-4e33-ae8c-181a1f818233",
   "metadata": {},
   "source": [
    "Some preprocessings for text:\n",
    "- lower case\n",
    "- Punctuations removal\n",
    "- Stopwords removal except for the 'not', 'shouldn't' didn't etc, as these words changes the sentiment of a text\n",
    "- "
   ]
  },
  {
   "cell_type": "markdown",
   "id": "e3045c27-e6c5-40e8-b01a-f3a39b277ec5",
   "metadata": {},
   "source": [
    "Converting everything to lower case for uniformity of same words presented in both upper and lower case"
   ]
  },
  {
   "cell_type": "code",
   "execution_count": 26,
   "id": "46f1e3a5-fc4b-44e3-b4cf-c02a9a9ff36f",
   "metadata": {
    "tags": []
   },
   "outputs": [],
   "source": [
    "data_c['text'] = data_c['text'].apply(lambda x: x.lower())"
   ]
  },
  {
   "cell_type": "code",
   "execution_count": 27,
   "id": "f97f9075-d0ca-4329-b381-11973edb3fc8",
   "metadata": {
    "tags": []
   },
   "outputs": [
    {
     "data": {
      "text/html": [
       "<div>\n",
       "<style scoped>\n",
       "    .dataframe tbody tr th:only-of-type {\n",
       "        vertical-align: middle;\n",
       "    }\n",
       "\n",
       "    .dataframe tbody tr th {\n",
       "        vertical-align: top;\n",
       "    }\n",
       "\n",
       "    .dataframe thead th {\n",
       "        text-align: right;\n",
       "    }\n",
       "</style>\n",
       "<table border=\"1\" class=\"dataframe\">\n",
       "  <thead>\n",
       "    <tr style=\"text-align: right;\">\n",
       "      <th></th>\n",
       "      <th>target</th>\n",
       "      <th>text</th>\n",
       "    </tr>\n",
       "  </thead>\n",
       "  <tbody>\n",
       "    <tr>\n",
       "      <th>0</th>\n",
       "      <td>1</td>\n",
       "      <td>i love @health4uandpets u guys r the best!!</td>\n",
       "    </tr>\n",
       "    <tr>\n",
       "      <th>1</th>\n",
       "      <td>1</td>\n",
       "      <td>im meeting up with one of my besties tonight! ...</td>\n",
       "    </tr>\n",
       "    <tr>\n",
       "      <th>2</th>\n",
       "      <td>1</td>\n",
       "      <td>@darealsunisakim thanks for the twitter add, s...</td>\n",
       "    </tr>\n",
       "    <tr>\n",
       "      <th>3</th>\n",
       "      <td>1</td>\n",
       "      <td>being sick can be really cheap when it hurts t...</td>\n",
       "    </tr>\n",
       "    <tr>\n",
       "      <th>4</th>\n",
       "      <td>1</td>\n",
       "      <td>@lovesbrooklyn2 he has that effect on everyone</td>\n",
       "    </tr>\n",
       "  </tbody>\n",
       "</table>\n",
       "</div>"
      ],
      "text/plain": [
       "   target                                               text\n",
       "0       1       i love @health4uandpets u guys r the best!! \n",
       "1       1  im meeting up with one of my besties tonight! ...\n",
       "2       1  @darealsunisakim thanks for the twitter add, s...\n",
       "3       1  being sick can be really cheap when it hurts t...\n",
       "4       1    @lovesbrooklyn2 he has that effect on everyone "
      ]
     },
     "execution_count": 27,
     "metadata": {},
     "output_type": "execute_result"
    }
   ],
   "source": [
    "data_c.head(5)"
   ]
  },
  {
   "cell_type": "markdown",
   "id": "5753712a-dc56-437f-b6c1-6d81691c9dcd",
   "metadata": {},
   "source": [
    "Removing Hashtags"
   ]
  },
  {
   "cell_type": "code",
   "execution_count": 28,
   "id": "b7871399-0865-4e61-ba36-43d30807fff0",
   "metadata": {
    "tags": []
   },
   "outputs": [],
   "source": [
    "def remove_hashtags(text):\n",
    "    return re.sub('#[^\\s]+', '', text)"
   ]
  },
  {
   "cell_type": "code",
   "execution_count": 29,
   "id": "750a1d45-358d-415d-a594-2b74fc2b7ca4",
   "metadata": {
    "tags": []
   },
   "outputs": [],
   "source": [
    "data_c['text'] = data_c['text'].apply(lambda x: remove_hashtags(x))"
   ]
  },
  {
   "cell_type": "code",
   "execution_count": 30,
   "id": "e181ad0a-ea1f-48fd-9e83-f9eccf2a3d9c",
   "metadata": {
    "tags": []
   },
   "outputs": [
    {
     "data": {
      "text/html": [
       "<div>\n",
       "<style scoped>\n",
       "    .dataframe tbody tr th:only-of-type {\n",
       "        vertical-align: middle;\n",
       "    }\n",
       "\n",
       "    .dataframe tbody tr th {\n",
       "        vertical-align: top;\n",
       "    }\n",
       "\n",
       "    .dataframe thead th {\n",
       "        text-align: right;\n",
       "    }\n",
       "</style>\n",
       "<table border=\"1\" class=\"dataframe\">\n",
       "  <thead>\n",
       "    <tr style=\"text-align: right;\">\n",
       "      <th></th>\n",
       "      <th>target</th>\n",
       "      <th>text</th>\n",
       "    </tr>\n",
       "  </thead>\n",
       "  <tbody>\n",
       "    <tr>\n",
       "      <th>0</th>\n",
       "      <td>1</td>\n",
       "      <td>i love @health4uandpets u guys r the best!!</td>\n",
       "    </tr>\n",
       "    <tr>\n",
       "      <th>1</th>\n",
       "      <td>1</td>\n",
       "      <td>im meeting up with one of my besties tonight! ...</td>\n",
       "    </tr>\n",
       "    <tr>\n",
       "      <th>2</th>\n",
       "      <td>1</td>\n",
       "      <td>@darealsunisakim thanks for the twitter add, s...</td>\n",
       "    </tr>\n",
       "    <tr>\n",
       "      <th>3</th>\n",
       "      <td>1</td>\n",
       "      <td>being sick can be really cheap when it hurts t...</td>\n",
       "    </tr>\n",
       "    <tr>\n",
       "      <th>4</th>\n",
       "      <td>1</td>\n",
       "      <td>@lovesbrooklyn2 he has that effect on everyone</td>\n",
       "    </tr>\n",
       "  </tbody>\n",
       "</table>\n",
       "</div>"
      ],
      "text/plain": [
       "   target                                               text\n",
       "0       1       i love @health4uandpets u guys r the best!! \n",
       "1       1  im meeting up with one of my besties tonight! ...\n",
       "2       1  @darealsunisakim thanks for the twitter add, s...\n",
       "3       1  being sick can be really cheap when it hurts t...\n",
       "4       1    @lovesbrooklyn2 he has that effect on everyone "
      ]
     },
     "execution_count": 30,
     "metadata": {},
     "output_type": "execute_result"
    }
   ],
   "source": [
    "data_c.head(5)"
   ]
  },
  {
   "cell_type": "markdown",
   "id": "1d0bdef2-9ce1-44bb-afb9-f8987a736eee",
   "metadata": {},
   "source": [
    "Removing usernames like @twitter"
   ]
  },
  {
   "cell_type": "code",
   "execution_count": 31,
   "id": "7e4b729f-3a95-4b11-aaf5-4614b919321b",
   "metadata": {
    "tags": []
   },
   "outputs": [],
   "source": [
    "def remove_username(text):\n",
    "    #text = str(text)\n",
    "    return re.sub('@\\w+?\\s', '', text)"
   ]
  },
  {
   "cell_type": "code",
   "execution_count": 32,
   "id": "174d2f3f-3f38-42e7-944b-b8a4ee82ac35",
   "metadata": {
    "tags": []
   },
   "outputs": [
    {
     "data": {
      "text/plain": [
       "'I LOVE u guys r the'"
      ]
     },
     "execution_count": 32,
     "metadata": {},
     "output_type": "execute_result"
    }
   ],
   "source": [
    "remove_username('I LOVE @Health4UandPets u guys r the')"
   ]
  },
  {
   "cell_type": "code",
   "execution_count": 33,
   "id": "f702fce9-a0b2-42fa-93c9-7eb8d94217bb",
   "metadata": {
    "tags": []
   },
   "outputs": [],
   "source": [
    "data_c['text'] = data_c['text'].apply(lambda x: remove_username(x))"
   ]
  },
  {
   "cell_type": "code",
   "execution_count": 34,
   "id": "4a5e39fd-9912-4788-8ba6-9add2ae1a95f",
   "metadata": {
    "tags": []
   },
   "outputs": [
    {
     "data": {
      "text/html": [
       "<div>\n",
       "<style scoped>\n",
       "    .dataframe tbody tr th:only-of-type {\n",
       "        vertical-align: middle;\n",
       "    }\n",
       "\n",
       "    .dataframe tbody tr th {\n",
       "        vertical-align: top;\n",
       "    }\n",
       "\n",
       "    .dataframe thead th {\n",
       "        text-align: right;\n",
       "    }\n",
       "</style>\n",
       "<table border=\"1\" class=\"dataframe\">\n",
       "  <thead>\n",
       "    <tr style=\"text-align: right;\">\n",
       "      <th></th>\n",
       "      <th>target</th>\n",
       "      <th>text</th>\n",
       "    </tr>\n",
       "  </thead>\n",
       "  <tbody>\n",
       "    <tr>\n",
       "      <th>0</th>\n",
       "      <td>1</td>\n",
       "      <td>I LOVE @Health4UandPets u guys r the best!!</td>\n",
       "    </tr>\n",
       "    <tr>\n",
       "      <th>1</th>\n",
       "      <td>1</td>\n",
       "      <td>im meeting up with one of my besties tonight! ...</td>\n",
       "    </tr>\n",
       "  </tbody>\n",
       "</table>\n",
       "</div>"
      ],
      "text/plain": [
       "   target                                               text\n",
       "0       1       I LOVE @Health4UandPets u guys r the best!! \n",
       "1       1  im meeting up with one of my besties tonight! ..."
      ]
     },
     "execution_count": 34,
     "metadata": {},
     "output_type": "execute_result"
    }
   ],
   "source": [
    "data.head(2)"
   ]
  },
  {
   "cell_type": "code",
   "execution_count": 35,
   "id": "4d7c2cbc-9160-4794-81be-32f1eb195376",
   "metadata": {
    "tags": []
   },
   "outputs": [
    {
     "data": {
      "text/html": [
       "<div>\n",
       "<style scoped>\n",
       "    .dataframe tbody tr th:only-of-type {\n",
       "        vertical-align: middle;\n",
       "    }\n",
       "\n",
       "    .dataframe tbody tr th {\n",
       "        vertical-align: top;\n",
       "    }\n",
       "\n",
       "    .dataframe thead th {\n",
       "        text-align: right;\n",
       "    }\n",
       "</style>\n",
       "<table border=\"1\" class=\"dataframe\">\n",
       "  <thead>\n",
       "    <tr style=\"text-align: right;\">\n",
       "      <th></th>\n",
       "      <th>target</th>\n",
       "      <th>text</th>\n",
       "    </tr>\n",
       "  </thead>\n",
       "  <tbody>\n",
       "    <tr>\n",
       "      <th>0</th>\n",
       "      <td>1</td>\n",
       "      <td>i love u guys r the best!!</td>\n",
       "    </tr>\n",
       "    <tr>\n",
       "      <th>1</th>\n",
       "      <td>1</td>\n",
       "      <td>im meeting up with one of my besties tonight! ...</td>\n",
       "    </tr>\n",
       "  </tbody>\n",
       "</table>\n",
       "</div>"
      ],
      "text/plain": [
       "   target                                               text\n",
       "0       1                        i love u guys r the best!! \n",
       "1       1  im meeting up with one of my besties tonight! ..."
      ]
     },
     "execution_count": 35,
     "metadata": {},
     "output_type": "execute_result"
    }
   ],
   "source": [
    "data_c.head(2)"
   ]
  },
  {
   "cell_type": "markdown",
   "id": "d2530aba-48ac-4675-a9bd-49f1f3c8a46b",
   "metadata": {},
   "source": [
    "Removing web addresses"
   ]
  },
  {
   "cell_type": "code",
   "execution_count": 36,
   "id": "8bc6fc18-627d-484c-8838-d7c8fa2e3c96",
   "metadata": {
    "tags": []
   },
   "outputs": [],
   "source": [
    "def remove_urls(text):\n",
    "    return re.sub('((www\\.[^\\s]+)|(https?://[^\\s]+))','',text)"
   ]
  },
  {
   "cell_type": "code",
   "execution_count": 37,
   "id": "84249d6e-1f1b-43a0-bcef-4f9e3f9c7c73",
   "metadata": {
    "tags": []
   },
   "outputs": [],
   "source": [
    "data_c['text'] = data_c['text'].apply(lambda x: remove_urls(x))"
   ]
  },
  {
   "cell_type": "code",
   "execution_count": 38,
   "id": "0e7d7ff4-c5b5-429d-911b-eadafb46093a",
   "metadata": {
    "tags": []
   },
   "outputs": [
    {
     "data": {
      "text/html": [
       "<div>\n",
       "<style scoped>\n",
       "    .dataframe tbody tr th:only-of-type {\n",
       "        vertical-align: middle;\n",
       "    }\n",
       "\n",
       "    .dataframe tbody tr th {\n",
       "        vertical-align: top;\n",
       "    }\n",
       "\n",
       "    .dataframe thead th {\n",
       "        text-align: right;\n",
       "    }\n",
       "</style>\n",
       "<table border=\"1\" class=\"dataframe\">\n",
       "  <thead>\n",
       "    <tr style=\"text-align: right;\">\n",
       "      <th></th>\n",
       "      <th>target</th>\n",
       "      <th>text</th>\n",
       "    </tr>\n",
       "  </thead>\n",
       "  <tbody>\n",
       "    <tr>\n",
       "      <th>0</th>\n",
       "      <td>1</td>\n",
       "      <td>i love u guys r the best!!</td>\n",
       "    </tr>\n",
       "    <tr>\n",
       "      <th>1</th>\n",
       "      <td>1</td>\n",
       "      <td>im meeting up with one of my besties tonight! ...</td>\n",
       "    </tr>\n",
       "    <tr>\n",
       "      <th>2</th>\n",
       "      <td>1</td>\n",
       "      <td>thanks for the twitter add, sunisa! i got to m...</td>\n",
       "    </tr>\n",
       "    <tr>\n",
       "      <th>3</th>\n",
       "      <td>1</td>\n",
       "      <td>being sick can be really cheap when it hurts t...</td>\n",
       "    </tr>\n",
       "    <tr>\n",
       "      <th>4</th>\n",
       "      <td>1</td>\n",
       "      <td>he has that effect on everyone</td>\n",
       "    </tr>\n",
       "  </tbody>\n",
       "</table>\n",
       "</div>"
      ],
      "text/plain": [
       "   target                                               text\n",
       "0       1                        i love u guys r the best!! \n",
       "1       1  im meeting up with one of my besties tonight! ...\n",
       "2       1  thanks for the twitter add, sunisa! i got to m...\n",
       "3       1  being sick can be really cheap when it hurts t...\n",
       "4       1                    he has that effect on everyone "
      ]
     },
     "execution_count": 38,
     "metadata": {},
     "output_type": "execute_result"
    }
   ],
   "source": [
    "data_c.head(5)"
   ]
  },
  {
   "cell_type": "markdown",
   "id": "86c257af-020a-43ca-bcee-23bfcb6d31df",
   "metadata": {},
   "source": [
    "Using contractions library (i'm --> i am, \"wont\" --> \"will not\", \"dont\"-->\"do not\" etc.)"
   ]
  },
  {
   "cell_type": "code",
   "execution_count": 39,
   "id": "5eddec3d-7712-406d-9de6-9f42792ff410",
   "metadata": {
    "tags": []
   },
   "outputs": [],
   "source": [
    "data_c['text'] = data_c['text'].apply(lambda x: contractions.fix(x))"
   ]
  },
  {
   "cell_type": "code",
   "execution_count": 40,
   "id": "9257b8e8-0b06-413e-800c-22811c034264",
   "metadata": {
    "tags": []
   },
   "outputs": [
    {
     "data": {
      "text/html": [
       "<div>\n",
       "<style scoped>\n",
       "    .dataframe tbody tr th:only-of-type {\n",
       "        vertical-align: middle;\n",
       "    }\n",
       "\n",
       "    .dataframe tbody tr th {\n",
       "        vertical-align: top;\n",
       "    }\n",
       "\n",
       "    .dataframe thead th {\n",
       "        text-align: right;\n",
       "    }\n",
       "</style>\n",
       "<table border=\"1\" class=\"dataframe\">\n",
       "  <thead>\n",
       "    <tr style=\"text-align: right;\">\n",
       "      <th></th>\n",
       "      <th>target</th>\n",
       "      <th>text</th>\n",
       "    </tr>\n",
       "  </thead>\n",
       "  <tbody>\n",
       "    <tr>\n",
       "      <th>0</th>\n",
       "      <td>1</td>\n",
       "      <td>i love you guys r the best!!</td>\n",
       "    </tr>\n",
       "    <tr>\n",
       "      <th>1</th>\n",
       "      <td>1</td>\n",
       "      <td>i am meeting up with one of my besties tonight...</td>\n",
       "    </tr>\n",
       "    <tr>\n",
       "      <th>2</th>\n",
       "      <td>1</td>\n",
       "      <td>thanks for the twitter add, sunisa! i got to m...</td>\n",
       "    </tr>\n",
       "    <tr>\n",
       "      <th>3</th>\n",
       "      <td>1</td>\n",
       "      <td>being sick can be really cheap when it hurts t...</td>\n",
       "    </tr>\n",
       "    <tr>\n",
       "      <th>4</th>\n",
       "      <td>1</td>\n",
       "      <td>he has that effect on everyone</td>\n",
       "    </tr>\n",
       "  </tbody>\n",
       "</table>\n",
       "</div>"
      ],
      "text/plain": [
       "   target                                               text\n",
       "0       1                      i love you guys r the best!! \n",
       "1       1  i am meeting up with one of my besties tonight...\n",
       "2       1  thanks for the twitter add, sunisa! i got to m...\n",
       "3       1  being sick can be really cheap when it hurts t...\n",
       "4       1                    he has that effect on everyone "
      ]
     },
     "execution_count": 40,
     "metadata": {},
     "output_type": "execute_result"
    }
   ],
   "source": [
    "data_c.head(5)"
   ]
  },
  {
   "cell_type": "markdown",
   "id": "0c4c6ab5-7e1d-47af-a765-81421d708658",
   "metadata": {},
   "source": [
    "Punctuations removal"
   ]
  },
  {
   "cell_type": "markdown",
   "id": "e4b8ae71-df93-480a-b550-f840fe08c086",
   "metadata": {},
   "source": [
    "Remember that removing all the punctuations will remove all the emmoticons too (like :) :-) :( etc, so if all the punctuations are removed we cant leverage the emoticons for sentiments.\n",
    "\n",
    "I have to find a way to solve for this problem. ?"
   ]
  },
  {
   "cell_type": "code",
   "execution_count": 41,
   "id": "2ed7252d-f906-43b6-a3ff-675fedd7024f",
   "metadata": {
    "tags": []
   },
   "outputs": [],
   "source": [
    "def remove_punct(text):\n",
    "    english_punctuations = string.punctuation\n",
    "    translator = str.maketrans('','', english_punctuations)\n",
    "    return text.translate(translator)"
   ]
  },
  {
   "cell_type": "code",
   "execution_count": 42,
   "id": "f81db57c-aa94-4ad9-9ef4-862e132e56fe",
   "metadata": {
    "tags": []
   },
   "outputs": [],
   "source": [
    "data_c['text'] = data_c['text'].apply(lambda x: remove_punct(x))"
   ]
  },
  {
   "cell_type": "code",
   "execution_count": 43,
   "id": "3f5f6065-304d-4cad-bdb0-784ca3740594",
   "metadata": {
    "tags": []
   },
   "outputs": [
    {
     "data": {
      "text/html": [
       "<div>\n",
       "<style scoped>\n",
       "    .dataframe tbody tr th:only-of-type {\n",
       "        vertical-align: middle;\n",
       "    }\n",
       "\n",
       "    .dataframe tbody tr th {\n",
       "        vertical-align: top;\n",
       "    }\n",
       "\n",
       "    .dataframe thead th {\n",
       "        text-align: right;\n",
       "    }\n",
       "</style>\n",
       "<table border=\"1\" class=\"dataframe\">\n",
       "  <thead>\n",
       "    <tr style=\"text-align: right;\">\n",
       "      <th></th>\n",
       "      <th>target</th>\n",
       "      <th>text</th>\n",
       "    </tr>\n",
       "  </thead>\n",
       "  <tbody>\n",
       "    <tr>\n",
       "      <th>0</th>\n",
       "      <td>1</td>\n",
       "      <td>i love you guys r the best</td>\n",
       "    </tr>\n",
       "    <tr>\n",
       "      <th>1</th>\n",
       "      <td>1</td>\n",
       "      <td>i am meeting up with one of my besties tonight...</td>\n",
       "    </tr>\n",
       "    <tr>\n",
       "      <th>2</th>\n",
       "      <td>1</td>\n",
       "      <td>thanks for the twitter add sunisa i got to mee...</td>\n",
       "    </tr>\n",
       "    <tr>\n",
       "      <th>3</th>\n",
       "      <td>1</td>\n",
       "      <td>being sick can be really cheap when it hurts t...</td>\n",
       "    </tr>\n",
       "    <tr>\n",
       "      <th>4</th>\n",
       "      <td>1</td>\n",
       "      <td>he has that effect on everyone</td>\n",
       "    </tr>\n",
       "  </tbody>\n",
       "</table>\n",
       "</div>"
      ],
      "text/plain": [
       "   target                                               text\n",
       "0       1                        i love you guys r the best \n",
       "1       1  i am meeting up with one of my besties tonight...\n",
       "2       1  thanks for the twitter add sunisa i got to mee...\n",
       "3       1  being sick can be really cheap when it hurts t...\n",
       "4       1                    he has that effect on everyone "
      ]
     },
     "execution_count": 43,
     "metadata": {},
     "output_type": "execute_result"
    }
   ],
   "source": [
    "data_c.head(5)"
   ]
  },
  {
   "cell_type": "markdown",
   "id": "9dab69db-093c-48d2-9789-2be297504c6c",
   "metadata": {},
   "source": [
    "Removing numbers (as numbers doesn't seem to add any sentiments to a sentence)"
   ]
  },
  {
   "cell_type": "code",
   "execution_count": 44,
   "id": "b7ca5e11-26d0-4ccf-9e17-f2c6351fd39f",
   "metadata": {
    "tags": []
   },
   "outputs": [],
   "source": [
    "def remove_numbers(text):\n",
    "    return re.sub('[0-9]+', '', text)"
   ]
  },
  {
   "cell_type": "code",
   "execution_count": 45,
   "id": "832f7be6-1fbb-45b6-9568-4ef43f86cdbf",
   "metadata": {
    "tags": []
   },
   "outputs": [],
   "source": [
    "data_c['text'] = data_c['text'].apply(lambda x: remove_numbers(x))"
   ]
  },
  {
   "cell_type": "code",
   "execution_count": 46,
   "id": "b8545acd-7f78-4ad7-acc7-d8844d028bc2",
   "metadata": {
    "tags": []
   },
   "outputs": [
    {
     "data": {
      "text/html": [
       "<div>\n",
       "<style scoped>\n",
       "    .dataframe tbody tr th:only-of-type {\n",
       "        vertical-align: middle;\n",
       "    }\n",
       "\n",
       "    .dataframe tbody tr th {\n",
       "        vertical-align: top;\n",
       "    }\n",
       "\n",
       "    .dataframe thead th {\n",
       "        text-align: right;\n",
       "    }\n",
       "</style>\n",
       "<table border=\"1\" class=\"dataframe\">\n",
       "  <thead>\n",
       "    <tr style=\"text-align: right;\">\n",
       "      <th></th>\n",
       "      <th>target</th>\n",
       "      <th>text</th>\n",
       "    </tr>\n",
       "  </thead>\n",
       "  <tbody>\n",
       "    <tr>\n",
       "      <th>0</th>\n",
       "      <td>1</td>\n",
       "      <td>i love you guys r the best</td>\n",
       "    </tr>\n",
       "    <tr>\n",
       "      <th>1</th>\n",
       "      <td>1</td>\n",
       "      <td>i am meeting up with one of my besties tonight...</td>\n",
       "    </tr>\n",
       "    <tr>\n",
       "      <th>2</th>\n",
       "      <td>1</td>\n",
       "      <td>thanks for the twitter add sunisa i got to mee...</td>\n",
       "    </tr>\n",
       "    <tr>\n",
       "      <th>3</th>\n",
       "      <td>1</td>\n",
       "      <td>being sick can be really cheap when it hurts t...</td>\n",
       "    </tr>\n",
       "    <tr>\n",
       "      <th>4</th>\n",
       "      <td>1</td>\n",
       "      <td>he has that effect on everyone</td>\n",
       "    </tr>\n",
       "  </tbody>\n",
       "</table>\n",
       "</div>"
      ],
      "text/plain": [
       "   target                                               text\n",
       "0       1                        i love you guys r the best \n",
       "1       1  i am meeting up with one of my besties tonight...\n",
       "2       1  thanks for the twitter add sunisa i got to mee...\n",
       "3       1  being sick can be really cheap when it hurts t...\n",
       "4       1                    he has that effect on everyone "
      ]
     },
     "execution_count": 46,
     "metadata": {},
     "output_type": "execute_result"
    }
   ],
   "source": [
    "data_c.head(5)"
   ]
  },
  {
   "cell_type": "markdown",
   "id": "6e5f8c9d-138d-435a-83de-12248dc8ed37",
   "metadata": {},
   "source": [
    "Removing Extra Spaces from text"
   ]
  },
  {
   "cell_type": "code",
   "execution_count": 47,
   "id": "d1df4cdf-ed14-4069-bd8a-1b471b625215",
   "metadata": {
    "tags": []
   },
   "outputs": [],
   "source": [
    "def remove_extra_spaces(text):\n",
    "    return re.sub(r'\\s\\s+', ' ', text)"
   ]
  },
  {
   "cell_type": "code",
   "execution_count": 48,
   "id": "2e1a31ac-ec73-460b-bfca-07955d78a548",
   "metadata": {
    "tags": []
   },
   "outputs": [],
   "source": [
    "data_c['text'] = data_c['text'].apply(lambda x: remove_extra_spaces(x))"
   ]
  },
  {
   "cell_type": "markdown",
   "id": "50a9d639-d362-4aed-8d06-faf8fabbdc0f",
   "metadata": {},
   "source": [
    "Spelling correction"
   ]
  },
  {
   "cell_type": "markdown",
   "id": "0a35721a-d103-48b8-acb0-15f8be8b9d0a",
   "metadata": {},
   "source": [
    "In english there is no more than two repeated characters in correct spellings, So removing the more than two repeated characters adn replacing them with only two repeated characters using regex"
   ]
  },
  {
   "cell_type": "code",
   "execution_count": 49,
   "id": "ca351ba8-a3c2-413e-842a-d63f11eb0952",
   "metadata": {
    "tags": []
   },
   "outputs": [],
   "source": [
    "def remove_repeated_char(text,n):\n",
    "    n = str(n)\n",
    "    pattern = r'([a-z])\\1{' + n + r',}'\n",
    "    out_pattern = r'\\1\\1'\n",
    "    return re.sub(pattern, out_pattern, text)"
   ]
  },
  {
   "cell_type": "code",
   "execution_count": 50,
   "id": "581043f0-ca2d-40fc-9f5a-453d987fb9c6",
   "metadata": {
    "tags": []
   },
   "outputs": [],
   "source": [
    "data_c['text'] = data_c['text'].apply(lambda x: remove_repeated_char(x,2))"
   ]
  },
  {
   "cell_type": "code",
   "execution_count": 51,
   "id": "b998b5e2-9824-408e-aae0-95577f70c587",
   "metadata": {
    "tags": []
   },
   "outputs": [
    {
     "data": {
      "text/plain": [
       "'haappy'"
      ]
     },
     "execution_count": 51,
     "metadata": {},
     "output_type": "execute_result"
    }
   ],
   "source": [
    "remove_repeated_char('haaappy',2)"
   ]
  },
  {
   "cell_type": "markdown",
   "id": "5592d569-4e37-4c62-99fa-7ce0f82f3b4f",
   "metadata": {},
   "source": [
    "Corecting spellings using TextBlob library"
   ]
  },
  {
   "cell_type": "markdown",
   "id": "2dcb90ce-950d-4350-8d5e-43eaec0b1ce7",
   "metadata": {},
   "source": [
    "Since pyspellchecker and textblob are almost same but for the word 'guys', textblob outputs 'guns' and pyspellchecker outputs 'guys' and 'checker'-->'checked' in textblob and 'checker'-->'checker' in pyspellchecker , I am going with pyspellchecker as it seems more accurate. though they both converted 'plz' to 'ply'."
   ]
  },
  {
   "cell_type": "markdown",
   "id": "64483092-947f-47cb-9776-44b5822c8cd2",
   "metadata": {},
   "source": [
    "Note: Pyspellchecker returns none for the unknown words and that causes a problem\n",
    "and Both of the spellchecker programs are taking so much time which is why i am ignoring sppell check for now"
   ]
  },
  {
   "cell_type": "code",
   "execution_count": null,
   "id": "5149e542-25b3-49e6-b123-946c450fe292",
   "metadata": {
    "tags": []
   },
   "outputs": [],
   "source": [
    "# def spell_correct_tb(x):\n",
    "#     b = TextBlob(x)\n",
    "#     return str(b.correct())"
   ]
  },
  {
   "cell_type": "code",
   "execution_count": null,
   "id": "96bf2fa2-d873-43e3-9ee2-bb0a72133499",
   "metadata": {
    "tags": []
   },
   "outputs": [],
   "source": [
    "# def spell_correct_py(x):\n",
    "#     spell = SpellChecker()\n",
    "#     c = [spell.correction(y) for y in x.split()]\n",
    "#     #print(c)\n",
    "#     return ' '.join(c)"
   ]
  },
  {
   "cell_type": "code",
   "execution_count": null,
   "id": "60b7c666-8efa-4669-b065-d2e49c575224",
   "metadata": {
    "tags": []
   },
   "outputs": [],
   "source": []
  },
  {
   "cell_type": "markdown",
   "id": "d3f77dc5-215f-46a0-bb5a-a9f610915e7d",
   "metadata": {},
   "source": [
    "removing single characters from text"
   ]
  },
  {
   "cell_type": "code",
   "execution_count": 52,
   "id": "f73767cc-dd5e-4d4d-b1f1-fde02359d355",
   "metadata": {
    "tags": []
   },
   "outputs": [],
   "source": [
    "def remove_single(text):\n",
    "    return re.sub(r'\\b[a-z]\\s','',text)"
   ]
  },
  {
   "cell_type": "code",
   "execution_count": 53,
   "id": "81c6c24f-146f-4bc7-982e-f9c0e4a6f753",
   "metadata": {
    "tags": []
   },
   "outputs": [],
   "source": [
    "data_c['text'] = data_c['text'].apply(lambda x: remove_single(x))"
   ]
  },
  {
   "cell_type": "code",
   "execution_count": null,
   "id": "513116fc-3fce-4330-b218-7f541d3b650b",
   "metadata": {},
   "outputs": [],
   "source": []
  },
  {
   "cell_type": "markdown",
   "id": "7519f4e1-f13f-4bb5-8edd-49c82fdcb074",
   "metadata": {},
   "source": [
    "Stop Words handeling"
   ]
  },
  {
   "cell_type": "markdown",
   "id": "ad16dbdf-657b-4743-8d62-d91ffdf52782",
   "metadata": {},
   "source": [
    "I am including 'no' and 'not' in the stopwords as they affect the sentiment of a text,\n",
    "Since we already performed contraction, i can leave \"won't\" \"wouldn't\" \"doesn't\" \"don't\" etc"
   ]
  },
  {
   "cell_type": "code",
   "execution_count": 54,
   "id": "69278bfb-dd48-4225-b0ba-cad438474000",
   "metadata": {
    "tags": []
   },
   "outputs": [],
   "source": [
    "stopwords_list = set(stopwords.words('english'))\n",
    "stop_words = set(stopwords.words('english')) - set(['not', 'no',])\n",
    "#print(stop_words)"
   ]
  },
  {
   "cell_type": "code",
   "execution_count": 55,
   "id": "17595181-72fb-4dd0-9d53-19fb1b1f9c19",
   "metadata": {
    "tags": []
   },
   "outputs": [],
   "source": [
    "def remove_stopwords(text):\n",
    "    return ' '.join([word for word in text.split() if word not in stop_words])"
   ]
  },
  {
   "cell_type": "code",
   "execution_count": 56,
   "id": "ab43f587-0d48-428b-8332-c593e37f0039",
   "metadata": {
    "tags": []
   },
   "outputs": [],
   "source": [
    "data_c['text'] = data_c['text'].apply(lambda text: remove_stopwords(text))"
   ]
  },
  {
   "cell_type": "code",
   "execution_count": 57,
   "id": "dd16dcac-b333-4ad4-a31d-578099f10a55",
   "metadata": {
    "tags": []
   },
   "outputs": [
    {
     "data": {
      "text/plain": [
       "'love guys best'"
      ]
     },
     "execution_count": 57,
     "metadata": {},
     "output_type": "execute_result"
    }
   ],
   "source": [
    "data_c['text'][0]"
   ]
  },
  {
   "cell_type": "code",
   "execution_count": 58,
   "id": "7e3b051d-2092-4ca0-9389-75de6df72d94",
   "metadata": {
    "tags": []
   },
   "outputs": [
    {
     "data": {
      "text/plain": [
       "'I LOVE @Health4UandPets u guys r the best!! '"
      ]
     },
     "execution_count": 58,
     "metadata": {},
     "output_type": "execute_result"
    }
   ],
   "source": [
    "data['text'][0]"
   ]
  },
  {
   "cell_type": "code",
   "execution_count": null,
   "id": "03adcce5-d9da-4536-ad02-9a176e0b2b61",
   "metadata": {},
   "outputs": [],
   "source": []
  },
  {
   "cell_type": "markdown",
   "id": "081d0489-b288-4018-a966-006a618d7aee",
   "metadata": {},
   "source": [
    "Lemmatization to convert words to their roots"
   ]
  },
  {
   "cell_type": "markdown",
   "id": "94b649ff-a470-4dba-9c27-caac79957607",
   "metadata": {},
   "source": [
    "I will not use lemmatization here (though will see how it affects the output in future) as pointed out in this paper \"The Role of Pre-processing in Twitter Sentiment Analysis\" by Yanwei Bao, Changqin Quan, Lijuan Wang, Fuji Ren (Our experiments results on Stanford Twitter Sentiment\n",
    "Dataset show that URLs features reservation, negation transformation and repeated\n",
    "letters normalization have a positive impact on classification accuracy while stemming and lemmatization have a negative impact. )(https://kd.nsfc.gov.cn/paperDownload/1000013535999.pdf) "
   ]
  },
  {
   "cell_type": "code",
   "execution_count": null,
   "id": "71d69492-083f-456c-bcea-5ca588640828",
   "metadata": {
    "tags": []
   },
   "outputs": [],
   "source": [
    "# lemmatizer = WordNetLemmatizer()\n",
    "# def lemmatize_text(data):\n",
    "#     text = [lemmatizer.lemmatize(word) for word in data]\n",
    "#     return data"
   ]
  },
  {
   "cell_type": "code",
   "execution_count": null,
   "id": "1353a103-445d-437f-93f2-59de6525354e",
   "metadata": {},
   "outputs": [],
   "source": []
  },
  {
   "cell_type": "code",
   "execution_count": null,
   "id": "2c4c7aeb-c9b2-4e8f-bfcd-5acaf17a1349",
   "metadata": {},
   "outputs": [],
   "source": []
  },
  {
   "cell_type": "markdown",
   "id": "a1fa5d6a-541a-4e65-8dd1-eab1765321f6",
   "metadata": {
    "tags": []
   },
   "source": [
    "## Preparation for Modeling"
   ]
  },
  {
   "cell_type": "markdown",
   "id": "a5956ff9-7204-4814-81e0-73d7a10e3cba",
   "metadata": {
    "tags": []
   },
   "source": [
    "### Tokenization"
   ]
  },
  {
   "cell_type": "markdown",
   "id": "2be8496c-9741-4106-b46f-200759910faa",
   "metadata": {},
   "source": [
    "There is something called nltk.tokenize.TweetTokenizer which is specially made for social media tokenization and it picks up the emoticons as a token too. (only if they are there in text and we did not remove them during punctuation cleaning process)"
   ]
  },
  {
   "cell_type": "markdown",
   "id": "e8898384-6330-4be5-97ed-f73c52009b2f",
   "metadata": {
    "tags": []
   },
   "source": [
    "Useful Links: https://berkeley-stat159-f17.github.io/stat159-f17/lectures/11-strings/11-nltk..html#First-pass"
   ]
  },
  {
   "cell_type": "code",
   "execution_count": null,
   "id": "cd7a10e8-7edb-45c6-aa55-971bb4195ff6",
   "metadata": {},
   "outputs": [],
   "source": []
  },
  {
   "cell_type": "code",
   "execution_count": null,
   "id": "3035d143-34d3-435b-bdb2-01b5d6b9a5d3",
   "metadata": {},
   "outputs": [],
   "source": []
  },
  {
   "cell_type": "code",
   "execution_count": null,
   "id": "82e15c4c-7c07-46f8-9737-3b2679601921",
   "metadata": {},
   "outputs": [],
   "source": []
  },
  {
   "cell_type": "code",
   "execution_count": null,
   "id": "36da0bcf-3f09-4a47-8ff7-b6eaf6f9f4b2",
   "metadata": {},
   "outputs": [],
   "source": []
  },
  {
   "cell_type": "code",
   "execution_count": null,
   "id": "de474237-9893-4f27-9946-da6f758f2125",
   "metadata": {},
   "outputs": [],
   "source": []
  },
  {
   "cell_type": "code",
   "execution_count": null,
   "id": "2730bd95-4941-464c-a483-ad49704b4c74",
   "metadata": {},
   "outputs": [],
   "source": []
  }
 ],
 "metadata": {
  "kernelspec": {
   "display_name": "Python 3 (ipykernel)",
   "language": "python",
   "name": "python3"
  },
  "language_info": {
   "codemirror_mode": {
    "name": "ipython",
    "version": 3
   },
   "file_extension": ".py",
   "mimetype": "text/x-python",
   "name": "python",
   "nbconvert_exporter": "python",
   "pygments_lexer": "ipython3",
   "version": "3.11.3"
  }
 },
 "nbformat": 4,
 "nbformat_minor": 5
}
